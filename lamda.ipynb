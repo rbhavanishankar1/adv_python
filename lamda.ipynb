{
 "cells": [
  {
   "cell_type": "code",
   "execution_count": 1,
   "metadata": {},
   "outputs": [
    {
     "name": "stdout",
     "output_type": "stream",
     "text": [
      "{'a': 10, 'b': 20, 'c': 30}\n",
      "['a', 10, 'b', 20, 'c', 30]\n"
     ]
    }
   ],
   "source": [
    "d={\"a\":10,\"b\":20,\"c\":30}\n",
    "print(d)\n",
    "l=[]\n",
    "for i in d:\n",
    "    l+=[i,d[i]]\n",
    "print(l)\n",
    "#print(i,d[i])"
   ]
  },
  {
   "cell_type": "code",
   "execution_count": 2,
   "metadata": {},
   "outputs": [],
   "source": [
    "# for i in range(i,len(l)):\n",
    "#     for j in range(i+1,)"
   ]
  },
  {
   "cell_type": "code",
   "execution_count": 3,
   "metadata": {},
   "outputs": [],
   "source": [
    "# l=[(\"d\",10),(\"b\",20),(\"c\",10)]\n",
    "# for i in range(0,len(l)):\n",
    "#     for j in range(i+1,len(l)):\n"
   ]
  },
  {
   "cell_type": "code",
   "execution_count": 4,
   "metadata": {},
   "outputs": [
    {
     "name": "stdout",
     "output_type": "stream",
     "text": [
      "['f', 'x', 'v', 'j']\n",
      "['f', 'j', 'v', 'x']\n"
     ]
    }
   ],
   "source": [
    "l=[\"f\",\"x\",\"v\",\"j\"]\n",
    "print(l)\n",
    "l.sort()\n",
    "print(l)"
   ]
  },
  {
   "cell_type": "code",
   "execution_count": 5,
   "metadata": {},
   "outputs": [
    {
     "name": "stdout",
     "output_type": "stream",
     "text": [
      "[('d', 10), ('c', 20), ('j', 30), ('a', 50)]\n",
      "[('a', 50), ('c', 20), ('d', 10), ('j', 30)]\n"
     ]
    }
   ],
   "source": [
    "l=[(\"d\",10),(\"c\",20),(\"j\",30),(\"a\",50)]\n",
    "print(l)\n",
    "l.sort()\n",
    "print(l)"
   ]
  },
  {
   "cell_type": "code",
   "execution_count": 6,
   "metadata": {},
   "outputs": [
    {
     "name": "stdout",
     "output_type": "stream",
     "text": [
      "[('d', 10, 50), ('c', 20, 520), ('j', 30, 525), ('a', 50, 85)]\n",
      "[('d', 10, 50), ('a', 50, 85), ('c', 20, 520), ('j', 30, 525)]\n"
     ]
    }
   ],
   "source": [
    "l=[(\"d\",10,50),(\"c\",20,520),(\"j\",30,525),(\"a\",50,85)]\n",
    "print(l)\n",
    "l.sort(key=lambda arg:arg[2])\n",
    "print(l)"
   ]
  },
  {
   "cell_type": "code",
   "execution_count": 7,
   "metadata": {},
   "outputs": [
    {
     "name": "stdout",
     "output_type": "stream",
     "text": [
      "[('d', 10, 50), ('c', 20, 520), ('j', 30, 525), ('a', 50, 85)]\n",
      "[('d', 10, 50), ('c', 20, 520), ('j', 30, 525), ('a', 50, 85)]\n"
     ]
    }
   ],
   "source": [
    "l=[(\"d\",10,50),(\"c\",20,520),(\"j\",30,525),(\"a\",50,85)]\n",
    "print(l)\n",
    "l.sort(key=lambda arg:arg[1])\n",
    "print(l)"
   ]
  },
  {
   "cell_type": "code",
   "execution_count": 8,
   "metadata": {},
   "outputs": [
    {
     "name": "stdout",
     "output_type": "stream",
     "text": [
      "['f', 'g', 'a', 'm', 'p']\n",
      "['a', 'f', 'g', 'm', 'p']\n"
     ]
    }
   ],
   "source": [
    "l=[\"f\",\"g\",\"a\",\"m\",\"p\"]\n",
    "print(l)\n",
    "u=sorted(l)\n",
    "print(u)"
   ]
  },
  {
   "cell_type": "code",
   "execution_count": 9,
   "metadata": {},
   "outputs": [
    {
     "name": "stdout",
     "output_type": "stream",
     "text": [
      "[('d', 10, 50), ('c', 20, 520), ('j', 30, 525), ('a', 50, 85)]\n",
      "[('d', 10, 50), ('c', 20, 520), ('j', 30, 525), ('a', 50, 85)]\n"
     ]
    }
   ],
   "source": [
    "l=[(\"d\",10,50),(\"c\",20,520),(\"j\",30,525),(\"a\",50,85)]\n",
    "print(l)\n",
    "u=sorted(l,key=lambda d:d[1])\n",
    "print(u)"
   ]
  },
  {
   "cell_type": "code",
   "execution_count": 10,
   "metadata": {},
   "outputs": [
    {
     "name": "stdout",
     "output_type": "stream",
     "text": [
      "[('d', 10), ('c', 20), ('j', 525), ('a', 85)]\n",
      "{'a': 85, 'c': 20, 'd': 10, 'j': 525}\n"
     ]
    }
   ],
   "source": [
    "l=[(\"d\",10),(\"c\",20),(\"j\",525),(\"a\",85)]\n",
    "print(l)\n",
    "u=dict(sorted(l,key=lambda d:d[0]))\n",
    "print(u)"
   ]
  },
  {
   "cell_type": "markdown",
   "metadata": {},
   "source": [
    "#for using the sorted method we have to converted to list or any type of data type is used to convert into the list"
   ]
  },
  {
   "cell_type": "code",
   "execution_count": 11,
   "metadata": {},
   "outputs": [
    {
     "data": {
      "text/plain": [
       "['a', 'c', 'e']"
      ]
     },
     "execution_count": 11,
     "metadata": {},
     "output_type": "execute_result"
    }
   ],
   "source": [
    "sorted({\"a\":10,\"e\":20,\"c\":40})"
   ]
  },
  {
   "cell_type": "code",
   "execution_count": 12,
   "metadata": {},
   "outputs": [
    {
     "data": {
      "text/plain": [
       "['a', 'b', 'h', 'x']"
      ]
     },
     "execution_count": 12,
     "metadata": {},
     "output_type": "execute_result"
    }
   ],
   "source": [
    "sorted((\"a\",\"h\",\"x\",\"b\"))"
   ]
  },
  {
   "cell_type": "code",
   "execution_count": 13,
   "metadata": {},
   "outputs": [
    {
     "data": {
      "text/plain": [
       "['a', 'b', 'h', 'x']"
      ]
     },
     "execution_count": 13,
     "metadata": {},
     "output_type": "execute_result"
    }
   ],
   "source": [
    "sorted({\"a\",\"h\",\"x\",\"b\"})"
   ]
  },
  {
   "cell_type": "code",
   "execution_count": 14,
   "metadata": {},
   "outputs": [
    {
     "name": "stdout",
     "output_type": "stream",
     "text": [
      "ABDFGH<class 'str'>\n"
     ]
    }
   ],
   "source": [
    "st=\"ABcDeFGHli\"\n",
    "for i in st:\n",
    "    if i==i.upper():\n",
    "        print(i,end=\"\")\n",
    "print(type(i))\n"
   ]
  },
  {
   "cell_type": "code",
   "execution_count": 15,
   "metadata": {},
   "outputs": [
    {
     "name": "stdout",
     "output_type": "stream",
     "text": [
      "ABDFGH\n"
     ]
    }
   ],
   "source": [
    "st=\"ABcDeFGHli\"\n",
    "s=\"\"\n",
    "for i in st:\n",
    "    if \"A\"<=i<=\"Z\":\n",
    "        s+=i\n",
    "print(s)                                                                               "
   ]
  },
  {
   "cell_type": "code",
   "execution_count": 16,
   "metadata": {},
   "outputs": [
    {
     "data": {
      "text/plain": [
       "'ABDFGH'"
      ]
     },
     "execution_count": 16,
     "metadata": {},
     "output_type": "execute_result"
    }
   ],
   "source": [
    "st=\"ABcDeFGHli\"\n",
    "def Upper_ex(coll):\n",
    "    s=\"\"\n",
    "    for i in coll:\n",
    "        if \"A\"<=i<=\"Z\":\n",
    "            s+=i\n",
    "    return s\n",
    "Upper_ex(st)"
   ]
  },
  {
   "cell_type": "code",
   "execution_count": 17,
   "metadata": {},
   "outputs": [
    {
     "data": {
      "text/plain": [
       "'ABDFGH'"
      ]
     },
     "execution_count": 17,
     "metadata": {},
     "output_type": "execute_result"
    }
   ],
   "source": [
    "st=\"ABcDeFGHli\"\n",
    "def Upper_ex(coll):\n",
    "    var=lambda i:i if \"A\"<=i<=\"Z\" else \"\"\n",
    "    s=\"\"\n",
    "    for i in coll:\n",
    "        s+=var(i)\n",
    "    return s\n",
    "Upper_ex(st)"
   ]
  },
  {
   "cell_type": "code",
   "execution_count": 18,
   "metadata": {},
   "outputs": [
    {
     "data": {
      "text/plain": [
       "'AKAEIJSDFHDJSLH'"
      ]
     },
     "execution_count": 18,
     "metadata": {},
     "output_type": "execute_result"
    }
   ],
   "source": [
    "st=\"kArthiKAEIJSDFHDJSLHkiusdfjkdfjilsd\"\n",
    "def Upper_ex(coll):\n",
    "    var=lambda i:i if \"A\"<=i<=\"Z\" else \"\"\n",
    "    s=\"\"\n",
    "    for row in coll:\n",
    "        s+=var(row)\n",
    "    return s\n",
    "Upper_ex(st)"
   ]
  },
  {
   "cell_type": "code",
   "execution_count": 19,
   "metadata": {},
   "outputs": [
    {
     "name": "stdout",
     "output_type": "stream",
     "text": [
      "AKAEIJSDFHDJSLH\n",
      "\n"
     ]
    }
   ],
   "source": [
    "st=\"kArthiKAEIJSDFHDJSLHkiusdfjkdfjilsd\"\n",
    "var=lambda i:i if \"A\"<=i<=\"Z\" else \"\"\n",
    "res=map(var,st)\n",
    "print(\"\".join(list(res)))\n",
    "print(\"\".join(res))"
   ]
  },
  {
   "cell_type": "code",
   "execution_count": 20,
   "metadata": {},
   "outputs": [
    {
     "name": "stdout",
     "output_type": "stream",
     "text": [
      "AKAEIJSDFHDJSLH\n"
     ]
    }
   ],
   "source": [
    "st=\"kArthiKAEIJSDFHDJSLHkiusdfjkdfjilsd\"\n",
    "res=\"\".join(map((lambda i:i if \"A\"<=i<=\"Z\" else \"\"),st))\n",
    "print(res)"
   ]
  },
  {
   "cell_type": "code",
   "execution_count": 21,
   "metadata": {},
   "outputs": [
    {
     "name": "stdout",
     "output_type": "stream",
     "text": [
      "krthikiusdfjkdfjilsd\n"
     ]
    }
   ],
   "source": [
    "st=\"kArthiKAEIJSDFHDJSLHkiusdfjkdfjilsd\"\n",
    "res=\"\".join(map((lambda i:i if \"a\"<=i<=\"z\" else \"\"),st))\n",
    "print(res)"
   ]
  },
  {
   "cell_type": "code",
   "execution_count": 23,
   "metadata": {},
   "outputs": [
    {
     "name": "stdout",
     "output_type": "stream",
     "text": [
      "[0, 2, 4, 6, 8, 10, 12, 14, 16, 18, 20]\n"
     ]
    }
   ],
   "source": [
    "var=list(map(lambda arg:arg*2,range(0,11)))\n",
    "print(var)"
   ]
  },
  {
   "cell_type": "code",
   "execution_count": 25,
   "metadata": {},
   "outputs": [
    {
     "name": "stdout",
     "output_type": "stream",
     "text": [
      "python\n"
     ]
    }
   ],
   "source": [
    "#i/p=PYTHON\n",
    "#o/p=python\n",
    "a=\"python\"\n",
    "b=a.lower()\n",
    "print(b)"
   ]
  },
  {
   "cell_type": "code",
   "execution_count": 50,
   "metadata": {},
   "outputs": [
    {
     "name": "stdout",
     "output_type": "stream",
     "text": [
      "python\n"
     ]
    }
   ],
   "source": [
    "st=\"pYThON\"\n",
    "res=\"\"\n",
    "for i in st:\n",
    "    if \"A\"<=i<=\"Z\":\n",
    "        num=ord(i)\n",
    "        num=num+32\n",
    "        chr(num)\n",
    "        res+=chr(num)\n",
    "    else:\n",
    "        res+=i\n",
    "print(res)\n"
   ]
  },
  {
   "cell_type": "code",
   "execution_count": 58,
   "metadata": {},
   "outputs": [
    {
     "name": "stdout",
     "output_type": "stream",
     "text": [
      "hellowworld@123\n"
     ]
    }
   ],
   "source": [
    "st=\"hELLOWwoRLd@123\"\n",
    "var=\"\".join(list(map(lambda ele:chr(ord(ele)+32) if \"A\"<=ele<=\"Z\" else ele,st)))\n",
    "print(var)"
   ]
  },
  {
   "cell_type": "code",
   "execution_count": 62,
   "metadata": {},
   "outputs": [
    {
     "name": "stdout",
     "output_type": "stream",
     "text": [
      "hellowworld@123\n"
     ]
    }
   ],
   "source": [
    "st=\"hELLOWwoRLd@123\"\n",
    "def Lower(ele):\n",
    "    if \"A\"<=ele<=\"Z\":\n",
    "        return chr(ord(ele)+32)\n",
    "    else:\n",
    "        return ele\n",
    "var=list(map(Lower,st))\n",
    "print(\"\".join(var))"
   ]
  },
  {
   "cell_type": "code",
   "execution_count": 96,
   "metadata": {},
   "outputs": [
    {
     "name": "stdout",
     "output_type": "stream",
     "text": [
      "ellowellowellowellowrlellowellowellowellowrlellowellowellowellowrlellowellowellowellowrlellowellowellowellowrlellowellowellowellowrlellowellowellowellowrlellowellowellowellowrlellowellowellowellowrlellowellowellowellowrlellowellowellowellowrlellowellowellowellowrlellowellowellowellowrlellowellowellowellowrlellowellowellowellowrlellowellowellowellowrlellowellowellowellowrlellowellowellowellowrlellowellowellowellowrlellowellowellowellowrlellowellowellowellowrlellowellowellowellowrlellowellowellowellowrlellowellowellowellowrlellowellowellowellowrlellowellowellowellowrlellowellowellowellowrlellowellowellowellowrlellowellowellowellowrlellowellowellowellowrlellowellowellowellowrlellowellowellowellowrl "
     ]
    }
   ],
   "source": [
    "st=\"hELLOWwoRLd@123\"\n",
    "start=0\n",
    "res=\"\"\n",
    "while start<len(st):\n",
    "    if \"A\"<=st[start]<=\"Z\":\n",
    "        res+=chr(ord(st[start])+32)\n",
    "    else:\n",
    "        res+=res\n",
    "    start+=1\n",
    "print(res,sep=\" \",end=\" \")"
   ]
  },
  {
   "cell_type": "code",
   "execution_count": 76,
   "metadata": {},
   "outputs": [
    {
     "name": "stdout",
     "output_type": "stream",
     "text": [
      "10 20 24 78 "
     ]
    }
   ],
   "source": [
    "coll=[10,15,20,17,24,78]\n",
    "for i in l:\n",
    "    if i%2==0:\n",
    "        print(i,end=\" \")"
   ]
  },
  {
   "cell_type": "code",
   "execution_count": 91,
   "metadata": {},
   "outputs": [
    {
     "name": "stdout",
     "output_type": "stream",
     "text": [
      "[10, 20, 24, 78]\n"
     ]
    }
   ],
   "source": [
    "coll=[10,15,20,17,24,78]\n",
    "def Even(ele):\n",
    "    l=[]\n",
    "    for i in ele:\n",
    "        if i%2==0:\n",
    "            l+=[i]\n",
    "    print(l)\n",
    "Even(coll)"
   ]
  },
  {
   "cell_type": "code",
   "execution_count": 109,
   "metadata": {},
   "outputs": [
    {
     "data": {
      "text/plain": [
       "[10]"
      ]
     },
     "execution_count": 109,
     "metadata": {},
     "output_type": "execute_result"
    }
   ],
   "source": [
    "coll=[10,15,20,17,24,78]\n",
    "def Even(ele,start=0):\n",
    "    l=[]\n",
    "    if ele[start]%2==0:\n",
    "         l+=[ele[start]]\n",
    "         return l\n",
    "    else:\n",
    "        return Even(ele,strat+1)\n",
    "Even(coll,start=0)\n"
   ]
  },
  {
   "cell_type": "code",
   "execution_count": 99,
   "metadata": {},
   "outputs": [
    {
     "name": "stdout",
     "output_type": "stream",
     "text": [
      "[10, None, 20, None, 24, 78]\n"
     ]
    }
   ],
   "source": [
    "l=[10,15,20,17,24,78]\n",
    "var=list(map(lambda arg:arg if arg%2==0 else None,l))\n",
    "print(var)\n"
   ]
  },
  {
   "cell_type": "code",
   "execution_count": 100,
   "metadata": {},
   "outputs": [
    {
     "name": "stdout",
     "output_type": "stream",
     "text": [
      "[10, 20, 24, 78]\n"
     ]
    }
   ],
   "source": [
    "#filter\n",
    "l=[10,15,20,17,24,78]\n",
    "var=list(filter(lambda arg:arg if arg%2==0 else None,l))\n",
    "print(var)\n"
   ]
  },
  {
   "cell_type": "code",
   "execution_count": 1,
   "metadata": {},
   "outputs": [
    {
     "name": "stdout",
     "output_type": "stream",
     "text": [
      "hellow\n"
     ]
    }
   ],
   "source": [
    "print(\"hellow\")"
   ]
  },
  {
   "cell_type": "code",
   "execution_count": 17,
   "metadata": {},
   "outputs": [
    {
     "data": {
      "text/plain": [
       "6"
      ]
     },
     "execution_count": 17,
     "metadata": {},
     "output_type": "execute_result"
    }
   ],
   "source": [
    "import numpy as np\n",
    "l=[2,3,6,6,5]\n",
    "np.array=l\n",
    "np.max(l)\n"
   ]
  },
  {
   "cell_type": "code",
   "execution_count": 16,
   "metadata": {},
   "outputs": [
    {
     "name": "stdout",
     "output_type": "stream",
     "text": [
      "Requirement already satisfied: numpy in c:\\users\\uppar\\appdata\\local\\packages\\pythonsoftwarefoundation.python.3.11_qbz5n2kfra8p0\\localcache\\local-packages\\python311\\site-packages (1.25.2)\n",
      "Note: you may need to restart the kernel to use updated packages.\n"
     ]
    },
    {
     "name": "stderr",
     "output_type": "stream",
     "text": [
      "\n",
      "[notice] A new release of pip is available: 23.1.2 -> 23.2.1\n",
      "[notice] To update, run: C:\\Users\\uppar\\AppData\\Local\\Microsoft\\WindowsApps\\PythonSoftwareFoundation.Python.3.11_qbz5n2kfra8p0\\python.exe -m pip install --upgrade pip\n"
     ]
    }
   ],
   "source": [
    "pip install numpy"
   ]
  },
  {
   "cell_type": "code",
   "execution_count": 33,
   "metadata": {},
   "outputs": [
    {
     "ename": "TypeError",
     "evalue": "'int' object is not callable",
     "output_type": "error",
     "traceback": [
      "\u001b[1;31m---------------------------------------------------------------------------\u001b[0m",
      "\u001b[1;31mTypeError\u001b[0m                                 Traceback (most recent call last)",
      "Cell \u001b[1;32mIn[33], line 2\u001b[0m\n\u001b[0;32m      1\u001b[0m l\u001b[39m=\u001b[39m[\u001b[39m2\u001b[39m,\u001b[39m3\u001b[39m,\u001b[39m6\u001b[39m,\u001b[39m6\u001b[39m,\u001b[39m5\u001b[39m]\n\u001b[1;32m----> 2\u001b[0m l1\u001b[39m=\u001b[39m\u001b[39mmax\u001b[39;49m(\u001b[39m5\u001b[39;49m,\u001b[39m8\u001b[39;49m)\n\u001b[0;32m      3\u001b[0m \u001b[39mprint\u001b[39m(l)\n\u001b[0;32m      4\u001b[0m \u001b[39m# fmax=max(l[0],l[1])\u001b[39;00m\n\u001b[0;32m      5\u001b[0m \u001b[39m# smax=min(l[0],l[1])\u001b[39;00m\n\u001b[0;32m      6\u001b[0m \u001b[39m# print(max)\u001b[39;00m\n\u001b[1;32m   (...)\u001b[0m\n\u001b[0;32m     10\u001b[0m \u001b[39m#         max=l[i] \u001b[39;00m\n\u001b[0;32m     11\u001b[0m \u001b[39m#         print(\"max value is : \",max)\u001b[39;00m\n",
      "\u001b[1;31mTypeError\u001b[0m: 'int' object is not callable"
     ]
    }
   ],
   "source": [
    "l=[2,3,6,6,5]\n",
    "l1=max(5,8)\n",
    "print(l)\n",
    "# fmax=max(l[0],l[1])\n",
    "# smax=min(l[0],l[1])\n",
    "# print(max)\n",
    "# for i in range(2,len(l)):\n",
    "#     if l[i]>max:\n",
    "#         smax=max\n",
    "#         max=l[i] \n",
    "#         print(\"max value is : \",max)\n",
    "        "
   ]
  },
  {
   "cell_type": "code",
   "execution_count": 59,
   "metadata": {},
   "outputs": [
    {
     "name": "stdout",
     "output_type": "stream",
     "text": [
      "max of numbers 896\n"
     ]
    }
   ],
   "source": [
    "l=[2,9,85,6,68,5,896,6]\n",
    "l1=list(set(l))\n",
    "l1.sort()\n",
    "print(\"max of numbers\",l1[-1])"
   ]
  },
  {
   "cell_type": "code",
   "execution_count": 75,
   "metadata": {},
   "outputs": [
    {
     "name": "stdout",
     "output_type": "stream",
     "text": [
      "max of the given list 896\n",
      "second max number is : 68\n"
     ]
    }
   ],
   "source": [
    "l=[2,9,856,6,68,5,896,6]\n",
    "max_num=l[0]\n",
    "second_num=l[0]\n",
    "for i in range(0,len(l)):\n",
    "    if max_num<l[i]:\n",
    "        max_num=l[i]\n",
    "    if second_num<l[i] and l[i]!=max_num:\n",
    "        second_num=l[i]\n",
    "print(\"max of the given list\",max_num)\n",
    "print(\"second max number is :\",second_num)\n",
    "\n",
    "\n"
   ]
  },
  {
   "cell_type": "code",
   "execution_count": null,
   "metadata": {},
   "outputs": [],
   "source": []
  },
  {
   "cell_type": "code",
   "execution_count": null,
   "metadata": {},
   "outputs": [],
   "source": []
  },
  {
   "cell_type": "code",
   "execution_count": null,
   "metadata": {},
   "outputs": [],
   "source": []
  },
  {
   "cell_type": "code",
   "execution_count": null,
   "metadata": {},
   "outputs": [],
   "source": []
  },
  {
   "cell_type": "code",
   "execution_count": null,
   "metadata": {},
   "outputs": [],
   "source": []
  },
  {
   "cell_type": "code",
   "execution_count": null,
   "metadata": {},
   "outputs": [],
   "source": []
  },
  {
   "cell_type": "code",
   "execution_count": null,
   "metadata": {},
   "outputs": [],
   "source": []
  }
 ],
 "metadata": {
  "kernelspec": {
   "display_name": "Python 3",
   "language": "python",
   "name": "python3"
  },
  "language_info": {
   "codemirror_mode": {
    "name": "ipython",
    "version": 3
   },
   "file_extension": ".py",
   "mimetype": "text/x-python",
   "name": "python",
   "nbconvert_exporter": "python",
   "pygments_lexer": "ipython3",
   "version": "3.11.4"
  },
  "orig_nbformat": 4
 },
 "nbformat": 4,
 "nbformat_minor": 2
}
