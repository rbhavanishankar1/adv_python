{
 "cells": [
  {
   "cell_type": "code",
   "execution_count": 1,
   "metadata": {},
   "outputs": [],
   "source": [
    "# def cls_method(func):\n",
    "#     def inner(*args,**kwargs):\n",
    "#         print(\"hii\")\n",
    "#         func(*args,**kwargs)\n",
    "#     return inner\n"
   ]
  },
  {
   "cell_type": "code",
   "execution_count": 2,
   "metadata": {},
   "outputs": [
    {
     "name": "stdout",
     "output_type": "stream",
     "text": [
      "[10, 20, 30, 40, 50] {'a': 10, 'b': 20}\n",
      "[10, 500, 30, 40, 50] {'a': 10, 'b': 20}\n",
      "[10, 500, 30, 40, 50, 'abc', 'a', 'b', 'c'] {'a': 10, 'b': 20, 'c': 30}\n",
      "[10, 500, 30, 40, 50, 'a', 'b', 'c'] {'a': 10, 'b': 20, 'c': 30}\n",
      "[10, 500, 'c'] {'a': 10, 'b': 20, 'c': 30}\n",
      "[10, 500, 'c'] {'b': 20, 'c': 30}\n"
     ]
    }
   ],
   "source": [
    "class sample:\n",
    "    x=[10,20,30,40,50]\n",
    "\n",
    "#creating\n",
    "sample.y={\"a\":10,\"b\":20}\n",
    "#read\n",
    "print(sample.x,sample.y)\n",
    "#update\n",
    "sample.x[1]=500\n",
    "print(sample.x,sample.y)\n",
    "#append\n",
    "sample.y[\"c\"]=30\n",
    "sample.x+=[\"abc\"]\n",
    "sample.x+=\"abc\"\n",
    "print(sample.x,sample.y)\n",
    "#del\n",
    "del sample.x[5]\n",
    "print(sample.x,sample.y)\n",
    "del sample.x[2:7]\n",
    "print(sample.x,sample.y)\n",
    "del sample.y[\"a\"]\n",
    "print(sample.x,sample.y)\n"
   ]
  },
  {
   "cell_type": "code",
   "execution_count": 3,
   "metadata": {},
   "outputs": [
    {
     "data": {
      "text/plain": [
       "mappingproxy({'__module__': '__main__',\n",
       "              'x': [10, 500, 'c'],\n",
       "              '__dict__': <attribute '__dict__' of 'sample' objects>,\n",
       "              '__weakref__': <attribute '__weakref__' of 'sample' objects>,\n",
       "              '__doc__': None,\n",
       "              'y': {'b': 20, 'c': 30}})"
      ]
     },
     "execution_count": 3,
     "metadata": {},
     "output_type": "execute_result"
    }
   ],
   "source": [
    "sample.__dict__\n"
   ]
  },
  {
   "cell_type": "code",
   "execution_count": 4,
   "metadata": {},
   "outputs": [
    {
     "name": "stdout",
     "output_type": "stream",
     "text": [
      "[10, 20, 30]\n"
     ]
    }
   ],
   "source": [
    "class demo:\n",
    "       x=[10,20,30]\n",
    "\n",
    "def display(cls):\n",
    "    print(cls.x)\n",
    "display(demo)\n",
    "\n",
    "\n",
    "        "
   ]
  },
  {
   "cell_type": "code",
   "execution_count": 5,
   "metadata": {},
   "outputs": [
    {
     "ename": "TypeError",
     "evalue": "demo.cls_display() missing 1 required positional argument: 'cls'",
     "output_type": "error",
     "traceback": [
      "\u001b[1;31m---------------------------------------------------------------------------\u001b[0m",
      "\u001b[1;31mTypeError\u001b[0m                                 Traceback (most recent call last)",
      "Cell \u001b[1;32mIn[5], line 6\u001b[0m\n\u001b[0;32m      4\u001b[0m        \u001b[39mdef\u001b[39;00m \u001b[39mcls_display\u001b[39m(\u001b[39mcls\u001b[39m):\n\u001b[0;32m      5\u001b[0m             \u001b[39mprint\u001b[39m(\u001b[39mcls\u001b[39m\u001b[39m.\u001b[39mx)\n\u001b[1;32m----> 6\u001b[0m demo\u001b[39m.\u001b[39;49mcls_display()      \n",
      "\u001b[1;31mTypeError\u001b[0m: demo.cls_display() missing 1 required positional argument: 'cls'"
     ]
    }
   ],
   "source": [
    "class demo:\n",
    "       x=[10,20,30]\n",
    "\n",
    "       def cls_display(cls):\n",
    "            print(cls.x)\n",
    "demo.cls_display()      "
   ]
  },
  {
   "cell_type": "code",
   "execution_count": null,
   "metadata": {},
   "outputs": [
    {
     "name": "stdout",
     "output_type": "stream",
     "text": [
      "[1, 2, 34, 5]\n"
     ]
    }
   ],
   "source": [
    "#to over come this above problem\n",
    "class demo:\n",
    "    x=[1,2,34,5]\n",
    "    @classmethod\n",
    "    def Display(cls):\n",
    "        print(cls.x)\n",
    "demo.Display()"
   ]
  },
  {
   "cell_type": "code",
   "execution_count": null,
   "metadata": {},
   "outputs": [
    {
     "name": "stdout",
     "output_type": "stream",
     "text": [
      "[1, 2, 34, 5]\n",
      "[1, 2, '525', 5]\n"
     ]
    }
   ],
   "source": [
    "#to over come this problem\n",
    "class demo:\n",
    "    x=[1,2,34,5]\n",
    "    @classmethod\n",
    "    def Display(cls):\n",
    "        print(cls.x)\n",
    "    @classmethod\n",
    "    def Modify(cls,pos=0,val=0):\n",
    "        pos=int(input(\"enter the position\"))\n",
    "        val=input(\"enter the number\")\n",
    "        cls.x[pos]=val\n",
    "        print(cls.x)\n",
    "demo.Display()\n",
    "demo.Modify()"
   ]
  },
  {
   "cell_type": "code",
   "execution_count": null,
   "metadata": {},
   "outputs": [
    {
     "name": "stdout",
     "output_type": "stream",
     "text": [
      "[1, 2, 34, 5]\n",
      "[1, 2, 34, 5, '2565']\n"
     ]
    }
   ],
   "source": [
    "#to over come this problem\n",
    "class demo:\n",
    "    x=[1,2,34,5]\n",
    "    @classmethod\n",
    "    def Display(cls):\n",
    "        print(cls.x)\n",
    "    @classmethod\n",
    "    def Modify(cls,pos=0,val=0):\n",
    "        pos=int(input(\"enter the position\"))\n",
    "        val=input(\"enter the number\")\n",
    "        cls.x[pos]=val\n",
    "        print(cls.x)\n",
    "    @classmethod\n",
    "    def append(cls,app=0):\n",
    "        app=input(\"enter the number\")\n",
    "        #cls.x.append(app)\n",
    "        cls.x+=[app]\n",
    "        print(cls.x)\n",
    "\n",
    "demo.Display()\n",
    "demo.append()"
   ]
  },
  {
   "cell_type": "code",
   "execution_count": null,
   "metadata": {},
   "outputs": [
    {
     "name": "stdout",
     "output_type": "stream",
     "text": [
      "pys\n",
      "ram 56\n"
     ]
    }
   ],
   "source": [
    "class college:\n",
    "    Coll_name=\"pys\"\n",
    "    def __init__(self,name,age):\n",
    "        self.name=name\n",
    "        self.age=age\n",
    "    @classmethod\n",
    "    def cls_display(cls):\n",
    "        print(cls.Coll_name)\n",
    "    def obj_display(self):\n",
    "        print(self.name,self.age)\n",
    "ramu=college(\"ram\",56) # object creation\n",
    "ramu.cls_display()\n",
    "college.\n",
    "ramu.obj_display()"
   ]
  },
  {
   "cell_type": "markdown",
   "metadata": {},
   "source": [
    "17-augest-2023\n"
   ]
  },
  {
   "cell_type": "code",
   "execution_count": null,
   "metadata": {},
   "outputs": [],
   "source": [
    "class Institue:\n",
    "    Name_INS=\"IITM Institute\"\n",
    "    address=\"hyd\"\n",
    "    code=\"IITM\"\n",
    "    def __init__(self,name,age,email,phone,branch,roll,year,degree):\n",
    "        self.name=name\n",
    "        self.age=age\n",
    "        self.email=email\n",
    "        self.phone=phone\n",
    "        self.branch=branch\n",
    "        self.roll=roll\n",
    "        self.year=year\n",
    "        self.degree=degree\n",
    "        \n",
    "        var=branch[0:2]+\"_\"+degree[0:2]+\"_\"+str(year[2:])+roll[8:]+\"@\"+f\"student.onlinedegree.{Institue.code}.ac.Institue\"\n",
    "        self.off_email=var\n",
    "krishna=Institue(\"krishna\",25,\"krishna@gmail.com\",\"9985898585\",\"cse\",\"IITM_CS_7814\",\"2022\",\"btech\")\n"
   ]
  },
  {
   "cell_type": "code",
   "execution_count": null,
   "metadata": {},
   "outputs": [
    {
     "data": {
      "text/plain": [
       "mappingproxy({'__module__': '__main__',\n",
       "              'Name_INS': 'IITM Institute',\n",
       "              'address': 'hyd',\n",
       "              'code': 'IITM',\n",
       "              '__init__': <function __main__.Institue.__init__(self, name, age, email, phone, branch, roll, year, degree)>,\n",
       "              '__dict__': <attribute '__dict__' of 'Institue' objects>,\n",
       "              '__weakref__': <attribute '__weakref__' of 'Institue' objects>,\n",
       "              '__doc__': None})"
      ]
     },
     "execution_count": 16,
     "metadata": {},
     "output_type": "execute_result"
    }
   ],
   "source": [
    "Institue.__dict__"
   ]
  },
  {
   "cell_type": "code",
   "execution_count": null,
   "metadata": {},
   "outputs": [
    {
     "data": {
      "text/plain": [
       "{'name': 'krishna',\n",
       " 'age': 25,\n",
       " 'email': 'krishna@gmail.com',\n",
       " 'phone': '9985898585',\n",
       " 'branch': 'cse',\n",
       " 'roll': 'IITM_CS_7814',\n",
       " 'year': '2022',\n",
       " 'degree': 'btech',\n",
       " 'off_email': 'cs_bt_227814@student.onlinedegree.IITM.ac.Institue'}"
      ]
     },
     "execution_count": 17,
     "metadata": {},
     "output_type": "execute_result"
    }
   ],
   "source": [
    "krishna.__dict__"
   ]
  },
  {
   "cell_type": "code",
   "execution_count": null,
   "metadata": {},
   "outputs": [
    {
     "name": "stdout",
     "output_type": "stream",
     "text": [
      "book name is : None\n",
      "book Author is : None\n",
      "book Desc is : None\n",
      "book Price is : None\n"
     ]
    }
   ],
   "source": [
    "\n",
    "class Book:\n",
    "    Title=input(\"enter the book Title\")\n",
    "    Author=input(\"enter the author\")\n",
    "    Desc=input(\"enter the description\")\n",
    "    Price=input(\"enetr the price\")\n",
    "    def __init__(self,Title,Author,Desc,Price):\n",
    "        self.Title= Title\n",
    "        self.Author=Author\n",
    "        self.Desc=Desc\n",
    "        self.Price=Price\n",
    "        Title=inp ut(\"enter the book Title\")\n",
    "        Author=input(\"enter the author\")\n",
    "        Desc=input(\"enter the description\")\n",
    "        Price=input(\"enetr the price\")\n",
    "    def view(self):\n",
    "        print(\"book name is :\",self.Title)\n",
    "        print(\"book Author is :\",self.Author)\n",
    "        print(\"book Desc is :\",self.Desc)\n",
    "        print(\"book Price is :\",self.Price)\n",
    "#a=Book(\"harry potter\",\"J. K. Rowlin\",\"Harry Potter is a series of seven fantasy novels written by British author J. K. Rowling. The novels chronicle the lives of a young wizard, Harry Potter, and his friends Hermione Granger and Ron Weasley, all of whom are students at Hogwarts School of Witchcraft and Wizardry.\",\"3177\")\n",
    "a=Book(None,None,None,None)\n",
    "a.view()"
   ]
  },
  {
   "cell_type": "code",
   "execution_count": null,
   "metadata": {},
   "outputs": [
    {
     "name": "stdout",
     "output_type": "stream",
     "text": [
      "book name is : hhf\n",
      "book Author is : nfnf\n",
      "book Desc is : nnfnf\n",
      "book Price is : mffmfm\n"
     ]
    }
   ],
   "source": [
    "class Book:\n",
    "    # Title=input(\"enter the book Title\")\n",
    "    # Author=input(\"enter the author\")\n",
    "    # Desc=input(\"enter the description\")\n",
    "    # Price=input(\"enetr the price\")\n",
    "    def __init__(self):\n",
    "        self.Title= input(\"enter the book Title\")\n",
    "        self.Author= input(\"enter the author\")\n",
    "        self.Desc= input(\"enter the description\")\n",
    "        self.Price= input(\"enetr the price\")\n",
    "    def view(self):\n",
    "        print(\"book name is :\",self.Title)\n",
    "        print(\"book Author is :\",self.Author)\n",
    "        print(\"book Desc is :\",self.Desc)\n",
    "        print(\"book Price is :\",self.Price)\n",
    "#a=Book(\"harry potter\",\"J. K. Rowlin\",\"Harry Potter is a series of seven fantasy novels written by British author J. K. Rowling. The novels chronicle the lives of a young wizard, Harry Potter, and his friends Hermione Granger and Ron Weasley, all of whom are students at Hogwarts School of Witchcraft and Wizardry.\",\"3177\")\n",
    "a=Book()\n",
    "a.view()"
   ]
  },
  {
   "cell_type": "code",
   "execution_count": null,
   "metadata": {},
   "outputs": [
    {
     "name": "stdout",
     "output_type": "stream",
     "text": [
      "construcor is running\n",
      "55\n"
     ]
    }
   ],
   "source": [
    "class a:\n",
    "    b=input(\"enter the num\")\n",
    "    def __init__(self):\n",
    "        print(\"construcor is running\")\n",
    "        print(self.b)\n",
    "    #def display(cls)\n",
    "\n",
    "obj=a()\n"
   ]
  },
  {
   "cell_type": "code",
   "execution_count": 38,
   "metadata": {},
   "outputs": [
    {
     "name": "stdout",
     "output_type": "stream",
     "text": [
      "book name is : java\n",
      "book Author is : harry\n",
      "book Desc is : java programming\n",
      "book Price is : 1500\n",
      "**************************************************\n",
      "book name is : python\n",
      "book Author is : sam\n",
      "book Desc is : python programming\n",
      "book Price is : 1600\n"
     ]
    }
   ],
   "source": [
    "class Book:\n",
    "    def __init__(self,Title,Author,Desc,Price):\n",
    "        self.Title= Title\n",
    "        self.Author=Author\n",
    "        self.Desc=Desc\n",
    "        self.Price=Price\n",
    "    def view(self):\n",
    "        print(\"book name is :\",self.Title)\n",
    "        print(\"book Author is :\",self.Author)\n",
    "        print(\"book Desc is :\",self.Desc)\n",
    "        print(\"book Price is :\",self.Price)\n",
    "#a=Book(\"harry potter\",\"J. K. Rowlin\",\"Harry Potter is a series of seven fantasy novels written by British author J. K. Rowling. The novels chronicle the lives of a young wizard, Harry Potter, and his friends Hermione Granger and Ron Weasley, all of whom are students at Hogwarts School of Witchcraft and Wizardry.\",\"3177\")\n",
    "Book1=Book(\"java\",\"harry\",\"java programming\",\"1500\")\n",
    "Book2=Book(\"python\",\"sam\",\"python programming\",\"1600\")\n",
    "Book1.view()\n",
    "print(\"*\"*50)\n",
    "Book2.view()"
   ]
  },
  {
   "cell_type": "code",
   "execution_count": 40,
   "metadata": {},
   "outputs": [
    {
     "data": {
      "text/plain": [
       "'java'"
      ]
     },
     "execution_count": 40,
     "metadata": {},
     "output_type": "execute_result"
    }
   ],
   "source": [
    "Book1.Title"
   ]
  },
  {
   "cell_type": "code",
   "execution_count": null,
   "metadata": {},
   "outputs": [],
   "source": [
    "class Book:\n",
    "    publish=\"Epson\"\n",
    "    Adress=\"mysor\"\n",
    "    phone=\"1805429925\"\n",
    "    email=\"Epson@gmail.com\"\n",
    "    Usncode=\"HGT-858400\"\n",
    "    details={}\n",
    "    def __init__(self,Title,Author,Desc,Price):\n",
    "        self.Title= Title\n",
    "        self.Author=Author\n",
    "        self.Desc=Desc\n",
    "        self.Price=Price\n",
    "    def view(self):\n",
    "        print(\"book name is :\",self.Title)\n",
    "        print(\"book Author is :\",self.Author)\n",
    "        print(\"book Desc is :\",self.Desc)\n",
    "        print(\"book Price is :\",self.Price)\n",
    "    @classmethod\n",
    "    def contact_data(cls,key,value):\n",
    "        cls.detailes[key]=value\n",
    "    @classmethod\n",
    "    def change_uns(cls):\n",
    "        cls.usncode=Book.Usncode[:-1]+str(int(Book.usncode[-1])+1)\n",
    "    @classmethod\n",
    "    def all_details(cls):\n",
    "        for i in cls.details:\n",
    "            cls.view(cls.details[i])\n",
    "            print(\"*\"*50)\n",
    "\n",
    "\n",
    "#a=Book(\"harry potter\",\"J. K. Rowlin\",\"Harry Potter is a series of seven fantasy novels written by British author J. K. Rowling. The novels chronicle the lives of a young wizard, Harry Potter, and his friends Hermione Granger and Ron Weasley, all of whom are students at Hogwarts School of Witchcraft and Wizardry.\",\"3177\")\n",
    "Book1=Book(\"java\",\"harry\",\"java programming\",\"1500\")\n",
    "Book2=Book(\"python\",\"sam\",\"python programming\",\"1600\")\n",
    "Book3=Book(\"Django\",\"sam\",\"Django programming\",\"1800\")\n",
    "\n",
    "# Book1.view()\n",
    "# print(\"*\"*50)\n",
    "# Book2.view()"
   ]
  },
  {
   "cell_type": "code",
   "execution_count": null,
   "metadata": {},
   "outputs": [
    {
     "name": "stdout",
     "output_type": "stream",
     "text": [
      "book name is : java\n",
      "book Author is : harry\n",
      "book Desc is : java programming\n",
      "book Price is : 1500\n"
     ]
    }
   ],
   "source": [
    "Book1.view()\n"
   ]
  },
  {
   "cell_type": "code",
   "execution_count": null,
   "metadata": {},
   "outputs": [
    {
     "name": "stdout",
     "output_type": "stream",
     "text": [
      "book name is : python\n",
      "book Author is : sam\n",
      "book Desc is : python programming\n",
      "book Price is : 1600\n"
     ]
    }
   ],
   "source": [
    "Book2.view()\n"
   ]
  },
  {
   "cell_type": "code",
   "execution_count": null,
   "metadata": {},
   "outputs": [
    {
     "name": "stdout",
     "output_type": "stream",
     "text": [
      "book name is : Django\n",
      "book Author is : sam\n",
      "book Desc is : Django programming\n",
      "book Price is : 1800\n"
     ]
    }
   ],
   "source": [
    "Book3.view()\n"
   ]
  },
  {
   "cell_type": "code",
   "execution_count": null,
   "metadata": {},
   "outputs": [],
   "source": [
    "Book.all_details()"
   ]
  },
  {
   "cell_type": "code",
   "execution_count": null,
   "metadata": {},
   "outputs": [
    {
     "name": "stdout",
     "output_type": "stream",
     "text": [
      "sum of two num is :  17\n"
     ]
    }
   ],
   "source": [
    "class add:\n",
    "    def __init__(self):\n",
    "        self.a=int(input(\"enter the num1\"))\n",
    "        self.b=int(input(\"enter the num2\"))\n",
    "    def add1(self):\n",
    "        self.c=self.a + self.b \n",
    "        print(\"sum of two num is : \",self.c)\n",
    "a=add()\n",
    "a.add1()\n"
   ]
  },
  {
   "cell_type": "code",
   "execution_count": 33,
   "metadata": {},
   "outputs": [],
   "source": [
    "class Bank:\n",
    "    bank=\"SBI\"\n",
    "    ifsc=\"SBIN000084\"\n",
    "    adress=\"hyd\"\n",
    "    ROI=7.7\n",
    "    cust_no=0\n",
    "    cust_details={}\n",
    "    def __init__(self,c_name,c_phone,c_email,c_adress):\n",
    "        self.c_name=c_name\n",
    "        self.c_phone=c_phone\n",
    "        self.c_adress=c_adress\n",
    "        self.bal=500\n",
    "        # self.inc_cust_no()\n",
    "        # self.c_acc=\"101578\"+str(self.cust_no)\n",
    "\n",
    "    @staticmethod\n",
    "    def bal():\n",
    "           print(Bank.bank)\n",
    "           print(Bank.ifsc)\n",
    "    @classmethod\n",
    "    def bal(cls):\n",
    "        print(\"avaialable balance is :\",cls.bal)\n",
    "\n",
    "    @classmethod\n",
    "    def deposit(cls):\n",
    "        amount=int(input(\"enter the amount u want to deposit\"))\n",
    "        cls.bal+=amount\n",
    "        print(\"after deposit the available balnace is :\",cls.bal)\n",
    "    def withdraw(cls):\n",
    "        amount=int(input(\"enter the amount u want to deposit\"))\n",
    "        if cls.bal-500<amount:\n",
    "            cls.bal-=amount\n",
    "            print(\"your withdraw amount is :\",amount)\n",
    "            print(\"after withdraw the available balnace is :\",cls.bal)\n",
    "        else:\n",
    "            print(\"u have unsufficent balance\")\n",
    "cust1=Bank(\"bhavani\",\"8689888999\",\"bhabani@123\",\"hyd\")\n",
    "\n"
   ]
  },
  {
   "cell_type": "code",
   "execution_count": 7,
   "metadata": {},
   "outputs": [
    {
     "name": "stdout",
     "output_type": "stream",
     "text": [
      "p\n",
      "y\n",
      "s\n",
      "p\n",
      "i\n",
      "d\n",
      "e\n",
      "r\n",
      "s\n"
     ]
    }
   ],
   "source": [
    "res=\" \"\n",
    "a=\"pyspiders\"\n",
    "for i in a:\n",
    "    res+=i\n",
    "    print(\"\".join(i))"
   ]
  },
  {
   "cell_type": "code",
   "execution_count": 13,
   "metadata": {},
   "outputs": [
    {
     "data": {
      "text/plain": [
       "{'c_name': 'bhavani', 'c_phone': '8689888999', 'c_adress': 'hyd'}"
      ]
     },
     "execution_count": 13,
     "metadata": {},
     "output_type": "execute_result"
    }
   ],
   "source": [
    "cust1.__dict__"
   ]
  },
  {
   "cell_type": "code",
   "execution_count": 14,
   "metadata": {},
   "outputs": [
    {
     "name": "stdout",
     "output_type": "stream",
     "text": [
      "SBI\n",
      "SBIN000084\n"
     ]
    }
   ],
   "source": [
    "Bank.bal()"
   ]
  },
  {
   "cell_type": "code",
   "execution_count": 34,
   "metadata": {},
   "outputs": [
    {
     "ename": "TypeError",
     "evalue": "unsupported operand type(s) for +=: 'method' and 'int'",
     "output_type": "error",
     "traceback": [
      "\u001b[1;31m---------------------------------------------------------------------------\u001b[0m",
      "\u001b[1;31mTypeError\u001b[0m                                 Traceback (most recent call last)",
      "Cell \u001b[1;32mIn[34], line 1\u001b[0m\n\u001b[1;32m----> 1\u001b[0m cust1\u001b[39m.\u001b[39;49mdeposit()\n",
      "Cell \u001b[1;32mIn[33], line 27\u001b[0m, in \u001b[0;36mBank.deposit\u001b[1;34m(cls)\u001b[0m\n\u001b[0;32m     24\u001b[0m \u001b[39m@classmethod\u001b[39m\n\u001b[0;32m     25\u001b[0m \u001b[39mdef\u001b[39;00m \u001b[39mdeposit\u001b[39m(\u001b[39mcls\u001b[39m):\n\u001b[0;32m     26\u001b[0m     amount\u001b[39m=\u001b[39m\u001b[39mint\u001b[39m(\u001b[39minput\u001b[39m(\u001b[39m\"\u001b[39m\u001b[39menter the amount u want to deposit\u001b[39m\u001b[39m\"\u001b[39m))\n\u001b[1;32m---> 27\u001b[0m     \u001b[39mcls\u001b[39;49m\u001b[39m.\u001b[39;49mbal\u001b[39m+\u001b[39;49m\u001b[39m=\u001b[39;49mamount\n\u001b[0;32m     28\u001b[0m     \u001b[39mprint\u001b[39m(\u001b[39m\"\u001b[39m\u001b[39mafter deposit the available balnace is :\u001b[39m\u001b[39m\"\u001b[39m,\u001b[39mcls\u001b[39m\u001b[39m.\u001b[39mbal)\n",
      "\u001b[1;31mTypeError\u001b[0m: unsupported operand type(s) for +=: 'method' and 'int'"
     ]
    }
   ],
   "source": [
    "cust1.deposit()"
   ]
  },
  {
   "cell_type": "code",
   "execution_count": 35,
   "metadata": {},
   "outputs": [
    {
     "name": "stdout",
     "output_type": "stream",
     "text": [
      "your withdraw amount is : 200\n",
      "after withdraw the available balnace is : 300\n"
     ]
    }
   ],
   "source": [
    "cust1.withdraw()"
   ]
  },
  {
   "cell_type": "code",
   "execution_count": 2,
   "metadata": {},
   "outputs": [
    {
     "name": "stdout",
     "output_type": "stream",
     "text": [
      "[[0, 0, 0], [0, 0, 1], [0, 0, 2], [0, 1, 0], [0, 1, 1], [0, 1, 2], [1, 0, 0], [1, 0, 1], [1, 0, 2], [1, 1, 0], [1, 1, 1], [1, 1, 2], [2, 0, 0], [2, 0, 1], [2, 0, 2], [2, 1, 0], [2, 1, 1]]\n"
     ]
    }
   ],
   "source": [
    "if __name__ == '__main__':\n",
    "    x = int(input())\n",
    "    y = int(input())\n",
    "    z = int(input())\n",
    "    n = int(input())\n",
    "    list1 = list(\n",
    "        [i,j,k]\n",
    "        \n",
    "        for i in range(0, x+1)\n",
    "        for j in range(0, y+1)\n",
    "        for k in range(0, z+1)\n",
    "        if (i+j+k) != n\n",
    "    )\n",
    "    \n",
    "    print(list1)\n",
    "\n"
   ]
  },
  {
   "cell_type": "markdown",
   "metadata": {},
   "source": [
    "22/2/2023\n",
    "oops concept\n"
   ]
  },
  {
   "cell_type": "code",
   "execution_count": 21,
   "metadata": {},
   "outputs": [
    {
     "name": "stdout",
     "output_type": "stream",
     "text": [
      "<sqlite3.Connection object at 0x000002B997FFF100>\n"
     ]
    },
    {
     "ename": "OperationalError",
     "evalue": "table com_emp already exists",
     "output_type": "error",
     "traceback": [
      "\u001b[1;31m---------------------------------------------------------------------------\u001b[0m",
      "\u001b[1;31mOperationalError\u001b[0m                          Traceback (most recent call last)",
      "Cell \u001b[1;32mIn[21], line 6\u001b[0m\n\u001b[0;32m      4\u001b[0m \u001b[39mprint\u001b[39m(db)\n\u001b[0;32m      5\u001b[0m cursor\u001b[39m=\u001b[39mdb\u001b[39m.\u001b[39mcursor()\n\u001b[1;32m----> 6\u001b[0m cursor\u001b[39m.\u001b[39;49mexecute(\u001b[39m\"\u001b[39;49m\u001b[39mcreate table com_emp(id int primary key,name varchar(50),email varchar(50),phone big int, adress varchar(50),gender varchar(10),age int,doj varchar(30))\u001b[39;49m\u001b[39m\"\u001b[39;49m)\n\u001b[0;32m      7\u001b[0m \u001b[39mprint\u001b[39m(cur\u001b[39m.\u001b[39mrowcount)\n\u001b[0;32m      8\u001b[0m db\u001b[39m.\u001b[39mcommit()\n",
      "\u001b[1;31mOperationalError\u001b[0m: table com_emp already exists"
     ]
    }
   ],
   "source": [
    "#creating a sqlite datbase\n",
    "import sqlite3\n",
    "db=sqlite3.connect(\"emp.db\")\n",
    "print(db)\n",
    "cursor=db.cursor()\n",
    "cursor.execute(\"create table com_emp(id int primary key,name varchar(50),email varchar(50),phone big int, adress varchar(50),gender varchar(10),age int,doj varchar(30))\")\n",
    "print(cur.rowcount)\n",
    "db.commit()"
   ]
  },
  {
   "cell_type": "code",
   "execution_count": 22,
   "metadata": {},
   "outputs": [
    {
     "ename": "IntegrityError",
     "evalue": "UNIQUE constraint failed: com_emp.id",
     "output_type": "error",
     "traceback": [
      "\u001b[1;31m---------------------------------------------------------------------------\u001b[0m",
      "\u001b[1;31mIntegrityError\u001b[0m                            Traceback (most recent call last)",
      "Cell \u001b[1;32mIn[22], line 43\u001b[0m\n\u001b[0;32m     38\u001b[0m             \u001b[39mprint\u001b[39m(\u001b[39m\"\u001b[39m\u001b[39mage: \u001b[39m\u001b[39m\"\u001b[39m,i[\u001b[39m5\u001b[39m])\n\u001b[0;32m     39\u001b[0m             \u001b[39mprint\u001b[39m(\u001b[39m\"\u001b[39m\u001b[39mdoj: \u001b[39m\u001b[39m\"\u001b[39m,i[\u001b[39m6\u001b[39m])\n\u001b[1;32m---> 43\u001b[0m emp1\u001b[39m=\u001b[39mcompany(\u001b[39m\"\u001b[39;49m\u001b[39mbhavni\u001b[39;49m\u001b[39m\"\u001b[39;49m,\u001b[39m\"\u001b[39;49m\u001b[39mbhavani@hmail.com\u001b[39;49m\u001b[39m\"\u001b[39;49m,\u001b[39m8899552211\u001b[39;49m,\u001b[39m\"\u001b[39;49m\u001b[39mhyd\u001b[39;49m\u001b[39m\"\u001b[39;49m,\u001b[39m\"\u001b[39;49m\u001b[39mmale\u001b[39;49m\u001b[39m\"\u001b[39;49m,\u001b[39m25\u001b[39;49m,\u001b[39m\"\u001b[39;49m\u001b[39m20-08-2023\u001b[39;49m\u001b[39m\"\u001b[39;49m)\n\u001b[0;32m     44\u001b[0m emp2\u001b[39m=\u001b[39mcompany(\u001b[39m\"\u001b[39m\u001b[39mram\u001b[39m\u001b[39m\"\u001b[39m,\u001b[39m\"\u001b[39m\u001b[39mram@gmail.com\u001b[39m\u001b[39m\"\u001b[39m,\u001b[39m9955884455\u001b[39m,\u001b[39m\"\u001b[39m\u001b[39mmbnr\u001b[39m\u001b[39m\"\u001b[39m,\u001b[39m\"\u001b[39m\u001b[39mmale\u001b[39m\u001b[39m\"\u001b[39m,\u001b[39m23\u001b[39m,\u001b[39m\"\u001b[39m\u001b[39m27-09-2023\u001b[39m\u001b[39m\"\u001b[39m)\n",
      "Cell \u001b[1;32mIn[22], line 19\u001b[0m, in \u001b[0;36mcompany.__init__\u001b[1;34m(self, name, email, phone, adress, gender, age, doj)\u001b[0m\n\u001b[0;32m     17\u001b[0m n\u001b[39m=\u001b[39m\u001b[39mint\u001b[39m(\u001b[39minput\u001b[39m(\u001b[39m\"\u001b[39m\u001b[39menter the option 1.commit/n 2.canel/n\u001b[39m\u001b[39m\"\u001b[39m))\n\u001b[0;32m     18\u001b[0m \u001b[39mif\u001b[39;00m n\u001b[39m==\u001b[39m\u001b[39m1\u001b[39m:\n\u001b[1;32m---> 19\u001b[0m     cursor\u001b[39m.\u001b[39;49mexecute(\u001b[39m\"\u001b[39;49m\u001b[39minsert into com_emp(id,name,email,phone,adress,gender,age,doj) values(?,?,?,?,?,?,?,?)\u001b[39;49m\u001b[39m\"\u001b[39;49m,[\u001b[39mself\u001b[39;49m\u001b[39m.\u001b[39;49mid,\u001b[39mself\u001b[39;49m\u001b[39m.\u001b[39;49mname,\u001b[39mself\u001b[39;49m\u001b[39m.\u001b[39;49memail,\u001b[39mself\u001b[39;49m\u001b[39m.\u001b[39;49mphone,\u001b[39mself\u001b[39;49m\u001b[39m.\u001b[39;49madress,\u001b[39mself\u001b[39;49m\u001b[39m.\u001b[39;49mgender,\u001b[39mself\u001b[39;49m\u001b[39m.\u001b[39;49mage,\u001b[39mself\u001b[39;49m\u001b[39m.\u001b[39;49mdoj])\n\u001b[0;32m     20\u001b[0m     db\u001b[39m.\u001b[39mcommit()\n\u001b[0;32m     21\u001b[0m \u001b[39melse\u001b[39;00m:\n",
      "\u001b[1;31mIntegrityError\u001b[0m: UNIQUE constraint failed: com_emp.id"
     ]
    }
   ],
   "source": [
    "class company:\n",
    "    com_name=\"tcs\"\n",
    "    adress=\"hyd\"\n",
    "    website=\"www.TCS.co.in\"\n",
    "    emp_count=0\n",
    "    def __init__(self,name,email,phone,adress,gender,age,doj):\n",
    "        self.name=name\n",
    "        self.email=email\n",
    "        self.phone=phone\n",
    "        self.adress=adress\n",
    "        self.gender=gender\n",
    "        self.age=age\n",
    "        self.doj=doj\n",
    "        self.off_email=self.name+str(self.phone)[-4:]+\"@\"+self.com_name+\".com\"\n",
    "        self.inc_emp_count()\n",
    "        self.id=\"tcs-125\"+str(self.emp_count)\n",
    "        n=int(input(\"enter the option 1.commit/n 2.canel/n\"))\n",
    "        if n==1:\n",
    "            cursor.execute(\"insert into com_emp(id,name,email,phone,adress,gender,age,doj) values(?,?,?,?,?,?,?,?)\",[self.id,self.name,self.email,self.phone,self.adress,self.gender,self.age,self.doj])\n",
    "            db.commit()\n",
    "        else:\n",
    "            print(\"plese enter the valid value\")\n",
    "\n",
    "    @classmethod\n",
    "    def inc_emp_count(cls):\n",
    "        cls.emp_count+=1\n",
    "\n",
    "    @staticmethod\n",
    "    def Display():\n",
    "        cursor.execute(\"select * from com_emp\")\n",
    "        res=cursor.fetchall()\n",
    "        for i in res:\n",
    "            print(\"id: \",i[0])\n",
    "            print(\"name: \",i[1])\n",
    "            print(\"phone: \",i[2])\n",
    "            print(\"adress: \",i[3])\n",
    "            print(\"gender: \",i[4])\n",
    "            print(\"age: \",i[5])\n",
    "            print(\"doj: \",i[6])\n",
    "\n",
    "\n",
    "\n",
    "emp1=company(\"bhavni\",\"bhavani@hmail.com\",8899552211,\"hyd\",\"male\",25,\"20-08-2023\")\n",
    "emp2=company(\"ram\",\"ram@gmail.com\",9955884455,\"mbnr\",\"male\",23,\"27-09-2023\")\n",
    "\n"
   ]
  },
  {
   "cell_type": "code",
   "execution_count": 8,
   "metadata": {},
   "outputs": [
    {
     "data": {
      "text/plain": [
       "{'name': 'bhavni',\n",
       " 'email': 'bhavani@hmail.com',\n",
       " 'phone': 8899552211,\n",
       " 'adress': 'hyd',\n",
       " 'gender': 'male',\n",
       " 'age': 25,\n",
       " 'doj': '20-08-2023',\n",
       " 'off_email': 'bhavni2211@tcs.com',\n",
       " 'id': 'tcs-1251'}"
      ]
     },
     "execution_count": 8,
     "metadata": {},
     "output_type": "execute_result"
    }
   ],
   "source": [
    "emp1.__dict__"
   ]
  },
  {
   "cell_type": "code",
   "execution_count": 9,
   "metadata": {},
   "outputs": [
    {
     "data": {
      "text/plain": [
       "{'name': 'ram',\n",
       " 'email': 'ram@gmail.com',\n",
       " 'phone': 9955884455,\n",
       " 'adress': 'mbnr',\n",
       " 'gender': 'male',\n",
       " 'age': 23,\n",
       " 'doj': '27-09-2023',\n",
       " 'off_email': 'ram4455@tcs.com',\n",
       " 'id': 'tcs-1252'}"
      ]
     },
     "execution_count": 9,
     "metadata": {},
     "output_type": "execute_result"
    }
   ],
   "source": [
    "emp2.__dict__"
   ]
  },
  {
   "cell_type": "code",
   "execution_count": 10,
   "metadata": {},
   "outputs": [
    {
     "name": "stdout",
     "output_type": "stream",
     "text": [
      "id:  tcs-1251\n",
      "name:  bhavni\n",
      "phone:  bhavani@hmail.com\n",
      "adress:  8899552211\n",
      "gender:  hyd\n",
      "age:  male\n",
      "doj:  25\n",
      "id:  tcs-1252\n",
      "name:  ram\n",
      "phone:  ram@gmail.com\n",
      "adress:  9955884455\n",
      "gender:  mbnr\n",
      "age:  male\n",
      "doj:  23\n"
     ]
    }
   ],
   "source": [
    "company.Display()"
   ]
  },
  {
   "cell_type": "code",
   "execution_count": 31,
   "metadata": {},
   "outputs": [],
   "source": [
    "import sqlite3\n",
    "def dbconnect(fun):\n",
    "    def inner(*args,**kwargs):\n",
    "        db=sqlite3.connect(\"student.db\")\n",
    "        cursor=db.cursor()\n",
    "        res=fun(db,cursor,*args,**kwargs)\n",
    "        print(cursor.rowcount,\"record is effected\")\n",
    "        db.commit()   \n",
    "        db.close()\n",
    "    return inner\n",
    "@dbconnect\n",
    "def id_inc(db,cursor):\n",
    "    res=cursor.execute(\"selcet id from student\").fetchall()\n",
    "    l=sorted([i[0] for i in res])[-1]+1\n",
    "    return l\n",
    "\n",
    "@dbconnect\n",
    "def create(db,cursor):\n",
    "    cursor.execute(\"create table student(id int,name varchar(20))\")\n",
    "#create()\n",
    "\n",
    "\n",
    "@dbconnect\n",
    "def insert(db,cursor):\n",
    "    id=input(\"enter the student id\")\n",
    "    name=input(\"enter the student name\")\n",
    "    val=[id,name]\n",
    "    cursor.execute(\"insert into student(id,name) values(?,?)\",val)\n",
    "#insert()\n",
    "\n",
    "@dbconnect\n",
    "def select(db,cursor):\n",
    "    cursor.execute(\"select * from student\")\n",
    "    res=cursor.fetchall()\n",
    "    for i in res:\n",
    "        print(i)\n",
    "#select()\n",
    "\n",
    "@dbconnect\n",
    "def update(db,cursor):\n",
    "    up=[input(\"enter the updated name :\")]\n",
    "    cursor.execute(\"update student set name=? where id=2\",up)\n",
    "#update()\n",
    "\n",
    "@dbconnect\n",
    "def delete(db,cursor):\n",
    "    cursor.execute(\" delete from student where id=3\")\n",
    "#delete()\n",
    "\n"
   ]
  },
  {
   "cell_type": "code",
   "execution_count": 27,
   "metadata": {},
   "outputs": [],
   "source": [
    "class BankAccount:\n",
    "    ifsc=\"SBIN0007435\"\n",
    "    accountNumber=\"SBIN-00\"\n",
    "    def __init__(self):\n",
    "        self.name=input(\"enter the name of customer\")\n",
    "        self.email=input(\"enter the email of customer\")\n",
    "        self.password=input(\"enter the password\")\n",
    "        self.phone=int(input(\"enter the phone number\"))\n",
    "        self.balance=int(input(\"enter the balance\"))\n",
    "   \n",
    "    @classmethod\n",
    "    def Deposite(cls):\n",
    "        damount=int(input(\"enter the deposite amount\"))\n",
    "        self.balance+=damount\n",
    "        print(\"the balance after the Deposite: \",self.balance)\n",
    "\n",
    "    @classmethod\n",
    "    def Withdraw(cls):\n",
    "        wamount=int(input(\"enter the amount tobe withdraw\"))\n",
    "        self.balance+=wamount\n",
    "        print(\"balance after withdraw : \",self.balance)\n",
    "\n",
    "b=BankAccount()\n",
    " \n",
    "\n",
    "    \n",
    "    "
   ]
  },
  {
   "cell_type": "code",
   "execution_count": 217,
   "metadata": {},
   "outputs": [
    {
     "name": "stdout",
     "output_type": "stream",
     "text": [
      "-1\n"
     ]
    }
   ],
   "source": [
    "#creation of table\n",
    "import sqlite3\n",
    "db=sqlite3.connect(\"Bank.db\")\n",
    "cursor=db.cursor()\n",
    "cursor.execute(\"create table if not exists Bank(id int ,accountNumber varchar(30),name varchar(20),email varchar(20),password varchar(20),phone big int ,ifsc varchar(50),balance big int) \")\n",
    "print(cursor.rowcount)\n",
    "db.commit()\n",
    "db.close()"
   ]
  },
  {
   "cell_type": "code",
   "execution_count": 220,
   "metadata": {},
   "outputs": [
    {
     "name": "stdout",
     "output_type": "stream",
     "text": [
      "you acoount is created\n"
     ]
    }
   ],
   "source": [
    "def acoount_creation():\n",
    "    import sqlite3\n",
    "    db=sqlite3.connect(\"Bank.db\")\n",
    "    cursor=db.cursor()\n",
    "    id=int(input(\"enter the id :\"))\n",
    "    accountNumber=\"SBIN-85898\"+str(id) \n",
    "    name=input(\"enter the name of customer\")\n",
    "    email=input(\"enter the email of customer\")\n",
    "    password=input(\"enter the password\")    \n",
    "    phone=int(input(\"enter the phone number\"))\n",
    "    balance=500 \n",
    "    ifsc=\"SBIN000354\"\n",
    "    val=[id,accountNumber,name,email,password,phone,ifsc,balance]\n",
    "    cursor.execute(\"insert into Bank(id,accountNumber,name,email,password,phone,ifsc,balance) values(?,?,?,?,?,?,?,?)\",val)\n",
    "    rowcount=cursor.rowcount\n",
    "    db.commit()\n",
    "    db.close()\n",
    "    if rowcount==1:\n",
    "        print(\"you acoount is created\")\n",
    "acoount_creation()"
   ]
  },
  {
   "cell_type": "code",
   "execution_count": 211,
   "metadata": {},
   "outputs": [],
   "source": [
    "#depositing the amount\n",
    "def deposite\n",
    "import sqlite3\n",
    "db=sqlite3.connect(\"Bank.db\")\n",
    "cursor=db.cursor()\n",
    "cursor.execute(\"select balance from bank where id=2\")\n",
    "res=cursor.fetchone()\n",
    "id=int(input(\"enter the user id\"))\n",
    "damount=int(input(\"enter the deposite amount :\"))+int(res[0])\n",
    "cursor.execute(\"update Bank set balance=? where id=? \",[damount,id])\n",
    "db.commit()\n",
    "db.close()\n"
   ]
  },
  {
   "cell_type": "code",
   "execution_count": 16,
   "metadata": {},
   "outputs": [],
   "source": [
    "#with draw the amount\n",
    "import sqlite3\n",
    "db=sqlite3.connect(\"Bank.db\")\n",
    "cursor=db.cursor()\n",
    "identity=input(\"enter the user id : \")\n",
    "val=[identity]\n",
    "cursor.execute(\"select balance from bank where id=?\",val)\n",
    "res=cursor.fetchone()\n",
    "wamount=int(res[0])-int(input(\"enter the withdraw amount :\"))\n",
    "if 0>=wamount:\n",
    "    print(\"Please enter the amount less than the balance\")\n",
    "    print(\"your balance is: \",res[0])\n",
    "cursor.execute(\"update Bank set balance=? where id=?\",[wamount,identity])\n",
    "db.commit()\n",
    "db.close()"
   ]
  },
  {
   "cell_type": "code",
   "execution_count": 17,
   "metadata": {},
   "outputs": [
    {
     "name": "stdout",
     "output_type": "stream",
     "text": [
      "(1, 'SBIN-858981', 'hii', 'hii@gmail.com', 'df31223r', 8899554477, 'SBIN000354', 300)\n",
      "(2, 'SBIN-858982', 'ram', 'ram@gmail.com', 'k;fjAL32', 8855447799, 'SBIN000354', 131500)\n"
     ]
    }
   ],
   "source": [
    "import sqlite3\n",
    "db=sqlite3.connect(\"Bank.db\")\n",
    "cursor=db.cursor()\n",
    "cursor.execute(\"select * from bank\")\n",
    "res=cursor.fetchall()\n",
    "for i in res:\n",
    "    print(i)"
   ]
  },
  {
   "cell_type": "code",
   "execution_count": 186,
   "metadata": {},
   "outputs": [],
   "source": [
    "#creation of table for \n",
    "import sqlite3\n",
    "db=sqlite3.connect(\"Bank.db\")\n",
    "cursor=db.cursor()\n",
    "cursor.execute(\"create table if not exists transcation(id int,account varchar(50),name varchar(20),states varchar(2),amount big int)\")\n",
    "db.commit()\n",
    "db.close()"
   ]
  },
  {
   "cell_type": "code",
   "execution_count": 203,
   "metadata": {},
   "outputs": [
    {
     "name": "stdout",
     "output_type": "stream",
     "text": [
      "enter the transaction id\n",
      "[(1, 'SBIN-858981', 'hii', 'hii@gmail.com', 'df31223r', 8899554477, 'SBIN000354', 300), (2, 'SBIN-858982', 'ram', 'ram@gmail.com', 'k;fjAL32', 8855447799, 'SBIN000354', 131500)]\n"
     ]
    }
   ],
   "source": [
    "#insertion of values in transcation\n",
    "import sqlite3\n",
    "db=sqlite3.connect(\"Bank.db\")\n",
    "cursor=db.cursor()\n",
    "id=print(\"enter the transaction id\")\n",
    "cursor.execute(\"select * from bank\")\n",
    "res=cursor.fetchall()\n",
    "print(res)\n",
    "account=res[0][1]\n",
    "name=res[0][2]\n",
    "states=\"\"\n",
    "amount=[6]\n",
    "val=[id,account,name,states,amount]\n",
    "cursor.execute(\"insert into tanscation(id,account,name,states,amount) values(?,?,?,?,?)\",val)"
   ]
  },
  {
   "cell_type": "code",
   "execution_count": 208,
   "metadata": {},
   "outputs": [
    {
     "data": {
      "text/plain": [
       "(1,\n",
       " 'SBIN-858981',\n",
       " 'hii',\n",
       " 'hii@gmail.com',\n",
       " 'df31223r',\n",
       " 8899554477,\n",
       " 'SBIN000354',\n",
       " 300)"
      ]
     },
     "execution_count": 208,
     "metadata": {},
     "output_type": "execute_result"
    }
   ],
   "source": [
    "res[0]"
   ]
  },
  {
   "cell_type": "code",
   "execution_count": 4,
   "metadata": {},
   "outputs": [
    {
     "name": "stdout",
     "output_type": "stream",
     "text": [
      "singer id :  1\n",
      "singer name:  bhavani\n",
      "singer adress:  hyd\n",
      "singer D_O_B :  10/12/2000\n",
      "number of album publish: ['djsk', 'adfs', 'asdf', 'asdf', 'asdf']\n",
      "number of album published is:  5\n",
      "{'1': [('bhavani', 'hyd', '10/12/2000', ['djsk', 'adfs', 'asdf', 'asdf', 'asdf'])]}\n",
      "1 record is effected\n",
      "singer id :  2\n",
      "singer name:  shankar\n",
      "singer adress:  vizg\n",
      "singer D_O_B :  11/10/1999\n",
      "number of album publish: ['DAJK', 'dasjklA', 'ad', 'ADS', 'ajk', 'AKJH', 'DAL']\n",
      "number of album published is:  7\n",
      "{'1': [('bhavani', 'hyd', '10/12/2000', ['djsk', 'adfs', 'asdf', 'asdf', 'asdf'])], '2': [('shankar', 'vizg', '11/10/1999', ['DAJK', 'dasjklA', 'ad', 'ADS', 'ajk', 'AKJH', 'DAL'])]}\n",
      "1 record is effected\n",
      "count total number of albums : 12\n",
      "you are succesfully terminated without terminating the data without modifying\n"
     ]
    }
   ],
   "source": [
    "import sqlite3\n",
    "count=int(input(\"enter the number of singers\"))\n",
    "count_number_of_album_publish=0\n",
    "\n",
    "class Singers:\n",
    "    details={}\n",
    "\n",
    "    def __init__(self):\n",
    "        self.singer_id=input(\"enter the singer id\")\n",
    "        self.singer_name=input(\"enter the singer name\")\n",
    "        self.singer_adress=input(\"enter the singer adress\")\n",
    "        self.date_of_birth=input(\"enter the singer date of birth\")\n",
    "        self.number_of_album_publish=input(\"enter the number of album publish\").split()\n",
    "        self.count1=len(self.number_of_album_publish)\n",
    "\n",
    "        \n",
    "    def disaply(self):\n",
    "        print(\"singer id : \",self.singer_id)\n",
    "        print(\"singer name: \",self.singer_name)\n",
    "        print(\"singer adress: \",self.singer_adress)\n",
    "        print(\"singer D_O_B : \",self.date_of_birth)\n",
    "        print(\"number of album publish:\",self.number_of_album_publish)\n",
    "        print(\"number of album published is: \",self.count1)\n",
    "\n",
    "    \n",
    "    @classmethod\n",
    "    def all_details(cls,key,*value):\n",
    "        cls.details[key]=[value]\n",
    "        print(cls.details)\n",
    "\n",
    "\n",
    "\n",
    "def specific_singer_details():\n",
    "        a=(input(\"enter the singer id to fetch the details :\"))\n",
    "        print(s.details[a])\n",
    "\n",
    "#specific_singer_details()\n",
    "\n",
    "def append_singer_album():\n",
    "    b=input(\"enter the singer id to modify singer album\")\n",
    "    add=input(\"enter the record to be added\").split()\n",
    "    print(\"befeore modifying album\",s.details[b][-1][-1])\n",
    "    l=list(s.details[b][-1][-1])\n",
    "    l+=add\n",
    "    print(\"after modifying album:\",l)\n",
    "\n",
    "#append_singer_album() \n",
    "\n",
    "def modify_singer_album():\n",
    "    c=input(\"enter the singer id to modify singer album\")\n",
    "    count2=-1\n",
    "    print(\"before modify\",s.details[c][-1][-1])\n",
    "    for i in s.details[c][-1][-1]:\n",
    "        count2+=1\n",
    "        modify=input(f\" do u want to modify {i} if yes press y \\n else print n\").upper()\n",
    "        if modify==\"Y\":\n",
    "            modified_value=input(f\"enter the another name for the album instead of {i}\")\n",
    "            print(f\"you have modifed the {s.details[c][-1][-1][count2]} : to {modified_value}\")\n",
    "            s.details[c][-1][-1][count2]=modified_value\n",
    "    print(\"after modify\",s.details[c][-1][-1])\n",
    "\n",
    "#modify_singer_album()\n",
    "\n",
    "\n",
    "\n",
    "def delete_singer_details():\n",
    "    c=input(\"enter the singer id to delete singer details\")\n",
    "    del s.details[c]\n",
    "    print(\"details after the deletion :\",s.details)\n",
    "#delete_singer_details()\n",
    "\n",
    "def dbconnect(fun):\n",
    "    def inner(*args,**kwargs):\n",
    "        db=sqlite3.connect(\"singers.db\")\n",
    "        cursor=db.cursor()\n",
    "        res=fun(db,cursor,*args,**kwargs)\n",
    "        print(cursor.rowcount,\"record is effected\")\n",
    "        db.commit()   \n",
    "        db.close()\n",
    "    return inner\n",
    "\n",
    "@dbconnect\n",
    "def create(db,cursor):\n",
    "    cursor.execute(\"create table if not exists singers(singer_id int,singer_name varchar(20),singer_adress varchar(50),D_O_B varchar(50),number_of_albumb_published varchar(50))\")\n",
    "create()\n",
    "\n",
    "\n",
    "@dbconnect\n",
    "def insert(db,cursor):\n",
    "    singer_id=s.singer_id\n",
    "    singer_name=s.singer_name\n",
    "    singer_adress=s.singer_adress\n",
    "    D_O_B=s.date_of_birth\n",
    "    number_of_albumb_published=s.count1\n",
    "    val=[singer_id,singer_name,singer_adress,D_O_B,number_of_albumb_published]\n",
    "    cursor.execute(\"insert into singers(singer_id,singer_name,singer_adress,D_O_B,number_of_albumb_published) values(?,?,?,?,?)\",val)\n",
    "\n",
    "\n",
    "\n",
    "for i in range(0,count):\n",
    "    s=Singers()\n",
    "    s.disaply()\n",
    "    s.all_details(s.singer_id,s.singer_name,s.singer_adress,s.date_of_birth,s.number_of_album_publish)\n",
    "    insert()\n",
    "    count_number_of_album_publish+=s.count1\n",
    "print(\"count total number of albums :\",count_number_of_album_publish)\n",
    "\n",
    "   #specific_singer_details()\n",
    "    #delete_singer_details()\n",
    "    #modify_singer_album()\n",
    "    # delete_singer_details()\n",
    "modify_data=input(\"DO u want any modifications if yes press Y else press n \").upper()\n",
    "if modify_data==\"Y\":\n",
    "    n=(input(\"if u want to to 1.specific_singer_details\\n2.append_singer_album\\n 3.modify_singer_album \\n4.delete_singer_details()\"))\n",
    "    match(n):\n",
    "        case \"1\":\n",
    "            specific_singer_details()\n",
    "            print(\"your are successfully retrived the data\")\n",
    "        case '2':\n",
    "            append_singer_album() \n",
    "            print(\"u r succesfully modify the data\")\n",
    "        case \"3\":\n",
    "            modify_singer_album()\n",
    "            print(\"u r sucessfully modified the data\")\n",
    "        case '4':\n",
    "            delete_singer_details()\n",
    "            print(\"u r succesfully deleted the data\")\n",
    "        case _:\n",
    "            print(\"please! enter the valid entry\")\n",
    "else:\n",
    "    pass\n",
    "    print(\"you are succesfully terminated without modifying any of the the data without modifying\")       "
   ]
  },
  {
   "cell_type": "code",
   "execution_count": 34,
   "metadata": {},
   "outputs": [
    {
     "name": "stdout",
     "output_type": "stream",
     "text": [
      "[('bhavani', 'hyd', '10/12/2000', ['ant', 'ball', 'car', 'dove', 'eagle'])]\n",
      "your are successfully retrived the data\n"
     ]
    }
   ],
   "source": [
    "modify_data=input(\"DO u want any modifications if yes press Y else press n \").upper()\n",
    "if modify_data==\"Y\":\n",
    "    n=(input(\"if u want to to 1.specific_singer_details\\n2.append_singer_album\\n 3.modify_singer_album \\n4.delete_singer_details()\"))\n",
    "    match(n):\n",
    "        case \"1\":\n",
    "            specific_singer_details()\n",
    "            print(\"your are successfully retrived the data\")\n",
    "        case '2':\n",
    "            append_singer_album() \n",
    "            print(\"u r succesfully modify the data\")\n",
    "        case \"3\":\n",
    "            modify_singer_album()\n",
    "            print(\"u r sucessfully modified the data\")\n",
    "        case '4':\n",
    "            delete_singer_details()\n",
    "            print(\"u r succesfully deleted the data\")\n",
    "        case _:\n",
    "            print(\"please! enter the valid entry\")\n",
    "else:\n",
    "    pass\n",
    "    print(\"you are succesfully terminated without modifying any of the the data without modifying\")       "
   ]
  },
  {
   "cell_type": "code",
   "execution_count": 23,
   "metadata": {},
   "outputs": [
    {
     "name": "stdout",
     "output_type": "stream",
     "text": [
      "before modify ['ant', 'ball', 'car', 'dog', 'eagle']\n",
      "you have modifed the dog : to dove\n",
      "after modify ['ant', 'ball', 'car', 'dove', 'eagle']\n"
     ]
    }
   ],
   "source": [
    "def modify_singer_album():\n",
    "    c=input(\"enter the singer id to modify singer album\")\n",
    "    count2=-1\n",
    "    print(\"before modify\",s.details[c][-1][-1])\n",
    "    for i in s.details[c][-1][-1]:\n",
    "        count2+=1\n",
    "        modify=input(f\" do u want to modify {i} if yes press y \\n else print n\").upper()\n",
    "        if modify==\"Y\":\n",
    "            modified_value=input(f\"enter the another name for the album instead of {i}\")\n",
    "            print(f\"you have modifed the {s.details[c][-1][-1][count2]} : to {modified_value}\")\n",
    "            s.details[c][-1][-1][count2]=modified_value\n",
    "    print(\"after modify\",s.details[c][-1][-1])\n",
    "\n",
    "modify_singer_album()\n"
   ]
  },
  {
   "cell_type": "code",
   "execution_count": 25,
   "metadata": {},
   "outputs": [
    {
     "data": {
      "text/plain": [
       "{'1': [('bhavani',\n",
       "   'hyd',\n",
       "   '10/12/2000',\n",
       "   ['ant', 'ball', 'car', 'dove', 'eagle'])],\n",
       " '2': [('shankar',\n",
       "   'vizg',\n",
       "   '11/10/1999',\n",
       "   ['apple', 'dasjklA', 'ad', 'ADS', 'ajk', 'AKJH', 'cat'])]}"
      ]
     },
     "execution_count": 25,
     "metadata": {},
     "output_type": "execute_result"
    }
   ],
   "source": [
    "Singers.details"
   ]
  },
  {
   "cell_type": "code",
   "execution_count": 27,
   "metadata": {},
   "outputs": [],
   "source": [
    "#another metof for modifying data\n",
    "# def modify_singer_album():\n",
    "#     c=input(\"enter the singer id to modify singer album\")\n",
    "#     res=s.details[c][-1][-1]\n",
    "#     print(\"before modify \",res)\n",
    "#     count=None\n",
    "#     st=\"\"\n",
    "#     for i in range(len(res)):\n",
    "#         modify=input(f\" do u want to modify {res} if yes press y \\n else print n\").upper()\n",
    "#         if modify==\"Y\":\n",
    "#             count=i\n",
    "#             st=input(f\"enter the another name for the album instead of {res}\")\n",
    "#     print(count)\n",
    "#     if count!=None:\n",
    "#         s.details[c][-1][-1][count]=st\n",
    "#     print(\"after modify\",res)\n",
    "# modify_singer_album()\n"
   ]
  },
  {
   "cell_type": "code",
   "execution_count": 44,
   "metadata": {},
   "outputs": [
    {
     "data": {
      "text/plain": [
       "['uuuu', 'hellow', 'byee']"
      ]
     },
     "execution_count": 44,
     "metadata": {},
     "output_type": "execute_result"
    }
   ],
   "source": [
    "s.details[\"2\"][-1][-1]"
   ]
  },
  {
   "cell_type": "code",
   "execution_count": 37,
   "metadata": {},
   "outputs": [
    {
     "data": {
      "text/plain": [
       "'uuuu'"
      ]
     },
     "execution_count": 37,
     "metadata": {},
     "output_type": "execute_result"
    }
   ],
   "source": [
    "s.details[\"2\"][-1][-1][0]"
   ]
  },
  {
   "cell_type": "code",
   "execution_count": 15,
   "metadata": {},
   "outputs": [
    {
     "name": "stdout",
     "output_type": "stream",
     "text": [
      "<class 'int'>\n"
     ]
    }
   ],
   "source": [
    "a=len(s.details[\"3\"][-1][-1])\n",
    "print(type(a))"
   ]
  },
  {
   "cell_type": "code",
   "execution_count": 114,
   "metadata": {},
   "outputs": [
    {
     "name": "stdout",
     "output_type": "stream",
     "text": [
      "befeore modifying album ['apple', 'ball', 'cat', 'dog']\n",
      "after modifying album: ['apple', 'ball', 'cat', 'dog']\n",
      "u r succesfully modify the data\n"
     ]
    }
   ],
   "source": [
    "#specific_singer_details()\n",
    "#\n",
    "#delete_singer_details()\n",
    "n=(input(\"if u want to to 1.specific_singer_details\\n2.modify_singer_album\\n3.delete_singer_details()\"))\n",
    "match(n):\n",
    "    case \"1\":\n",
    "        specific_singer_details()\n",
    "        print(\"your are successfully retrived the data\")\n",
    "    case '2':\n",
    "        append_singer_album() \n",
    "        print(\"u r succesfully modify the data\")\n",
    "    case '3':\n",
    "        delete_singer_details()\n",
    "        print(\"u r succesfully deleted the data\")\n",
    "    case _:\n",
    "         print(\"please! enter the valid entry\")\n",
    "        "
   ]
  },
  {
   "cell_type": "code",
   "execution_count": 7,
   "metadata": {},
   "outputs": [
    {
     "name": "stdout",
     "output_type": "stream",
     "text": [
      "singer id :  1\n",
      "singer name:  adsf\n",
      "singer adress:  afsd\n",
      "singer D_O_B :  asfd\n",
      "number of album publish: ['ads', 'a', 's', 'dfdsa', 'afds', 'io']\n",
      "number of album published is:  6\n",
      "{'1': [('adsf', 'afsd', 'asfd', ['ads', 'a', 's', 'dfdsa', 'afds', 'io'])]}\n",
      "singer id :  2\n",
      "singer name:  kajsd.f\n",
      "singer adress:  aksjfd\n",
      "singer D_O_B :  sbd\n",
      "number of album publish: ['asd', 'ads', 'asd', 'ads', 'ads', 'asd', 'das', 'as', 'saasas', 'das', 'as', 'as', 'a']\n",
      "number of album published is:  13\n",
      "{'1': [('adsf', 'afsd', 'asfd', ['ads', 'a', 's', 'dfdsa', 'afds', 'io'])], '2': [('kajsd.f', 'aksjfd', 'sbd', ['asd', 'ads', 'asd', 'ads', 'ads', 'asd', 'das', 'as', 'saasas', 'das', 'as', 'as', 'a'])]}\n",
      "count of all albums: 19\n"
     ]
    }
   ],
   "source": [
    "count=int(input(\"enter the number of singers\"))\n",
    "count_number_of_album_publish=0\n",
    "\n",
    "class Singers:\n",
    "    details={}\n",
    "\n",
    "    def __init__(self):\n",
    "        self.singer_id=input(\"enter the singer id\")\n",
    "        self.singer_name=input(\"enter the singer name\")\n",
    "        self.singer_adress=input(\"enter the singer adress\")\n",
    "        self.date_of_birth=input(\"enter the singer date of birth\")\n",
    "        self.number_of_album_publish=input(\"enter the number of album publish\").split()\n",
    "        self.count1=len(self.number_of_album_publish)\n",
    "    def disaply(self):\n",
    "\n",
    "        print(\"singer id : \",self.singer_id)\n",
    "        print(\"singer name: \",self.singer_name)\n",
    "        print(\"singer adress: \",self.singer_adress)\n",
    "        print(\"singer D_O_B : \",self.date_of_birth)\n",
    "        print(\"number of album publish:\",self.number_of_album_publish)\n",
    "        print(\"number of album published is: \",self.count1)\n",
    "        \n",
    "    \n",
    "    @classmethod\n",
    "    def all_details(cls,key,*value):\n",
    "        cls.details[key]=[value]\n",
    "        print(cls.details)\n",
    "          \n",
    "    \n",
    "for i in range(0,count):\n",
    "    s=Singers()\n",
    "    s.disaply()\n",
    "    s.all_details(s.singer_id,s.singer_name,s.singer_adress,s.date_of_birth,s.number_of_album_publish)\n",
    "    count_number_of_album_publish+=s.count1\n",
    "print(\"count of all albums:\",count_number_of_album_publish)\n",
    "\n",
    "def specific_singer_details():\n",
    "        a=(input(\"enter the singer id to fetch the details :\"))\n",
    "        print(s.details[a])\n",
    "\n",
    "#specific_singer_details()\n",
    "def appened_singer_album():\n",
    "    b=input(\"enter the singer id to modify singer album\")\n",
    "    add=input(\"enter the record to be added\").split()\n",
    "    print(\"befeore modifying album\",s.details[b][-1][-1])\n",
    "    l=list(s.details[b][-1][-1])\n",
    "    l+=add\n",
    "    print(\"after modifying album:\",l)\n",
    "#append_singer_album() \n",
    "\n",
    "\n",
    "def delete_singer_details():\n",
    "    c=input(\"enter the singer id to delete singer details\")\n",
    "    del s.details[c]\n",
    "    print(\"details after the deletion :\",s.details)\n",
    "#delete_singer_details()\n",
    "\n"
   ]
  },
  {
   "cell_type": "code",
   "execution_count": 201,
   "metadata": {},
   "outputs": [
    {
     "name": "stdout",
     "output_type": "stream",
     "text": [
      "-1 record is effected\n",
      "1 record is effected\n"
     ]
    }
   ],
   "source": [
    "import sqlite3\n",
    "def dbconnect(fun):\n",
    "    def inner(*args,**kwargs):\n",
    "        db=sqlite3.connect(\"singers.db\")\n",
    "        cursor=db.cursor()\n",
    "        res=fun(db,cursor,*args,**kwargs)\n",
    "        print(cursor.rowcount,\"record is effected\")\n",
    "        db.commit()   \n",
    "        db.close()\n",
    "    return inner\n",
    "\n",
    "@dbconnect\n",
    "def create(db,cursor):\n",
    "    cursor.execute(\"create table if not exists singers(singer_id int,singer_name varchar(20),singer_adress varchar(50),D_O_B varchar(50),number_of_albumb_published varchar(50))\")\n",
    "create()\n",
    "\n",
    "\n",
    "@dbconnect\n",
    "def insert(db,cursor):\n",
    "    singer_id=s.singer_id\n",
    "    singer_name=s.singer_name\n",
    "    singer_adress=s.singer_adress\n",
    "    D_O_B=s.date_of_birth\n",
    "    number_of_albumb_published=s.count1\n",
    "    val=[singer_id,singer_name,singer_adress,D_O_B,number_of_albumb_published]\n",
    "    cursor.execute(\"insert into singers(singer_id,singer_name,singer_adress,D_O_B,number_of_albumb_published) values(?,?,?,?,?)\",val)\n",
    "insert()\n",
    "\n",
    "def delete(db,cursor):\n",
    "    cursor.execute(\"drop singers id where id\")\n",
    "\n"
   ]
  },
  {
   "cell_type": "code",
   "execution_count": 24,
   "metadata": {},
   "outputs": [
    {
     "name": "stdout",
     "output_type": "stream",
     "text": [
      "{10: 10.5, True: False, 'hellowworld': (10, 20, 30), 'abc': None, 10.6: {'a': 10}} <class 'dict'>\n",
      "{\"10\": 10.5, \"true\": false, \"hellowworld\": [10, 20, 30], \"abc\": null, \"10.6\": {\"a\": 10}} <class 'dict'>\n",
      "__________________________________________________________________________________________\n",
      "{\"10\": 10.5, \"true\": false, \"hellowworld\": [10, 20, 30], \"abc\": null, \"10.6\": {\"a\": 10}} <class 'str'>\n",
      "{'10': 10.5, 'true': False, 'hellowworld': [10, 20, 30], 'abc': None, '10.6': {'a': 10}} <class 'dict'>\n"
     ]
    }
   ],
   "source": [
    "import json\n",
    "d={10:10.5,True:False,'''hellowworld''':(10,20,30),\"abc\":None,10.6:{\"a\":10}}\n",
    "print(d,type(d))#python contenet\n",
    "res=json.dumps(d)\n",
    "print(res,type(d))#json contenet\n",
    "\n",
    "print(\"___\"*30)\n",
    "\n",
    "print(res,type(res))#json contect\n",
    "temp=json.loads(res)\n",
    "print(temp,type(temp))#python content\n"
   ]
  },
  {
   "cell_type": "code",
   "execution_count": 7,
   "metadata": {},
   "outputs": [
    {
     "name": "stdout",
     "output_type": "stream",
     "text": [
      "{10: 10.5, True: False, 'hellowworld': (10, 20, 30), 'abc': None, 10.6: {'a': 10}} <class 'dict'>\n",
      "_ __ __ __ __ __ __ __ __ __ __ __ __ __ __ __ __ __ __ __ __ __ __ __ __ __ __ __ __ __ _\n",
      "{'10': 10.5, 'true': False, 'hellowworld': [10, 20, 30], 'abc': None, '10.6': {'a': 10}} <class 'dict'>\n"
     ]
    }
   ],
   "source": [
    "import json\n",
    "fp=open(\"file.json\",'w')\n",
    "d={10:10.5,True:False,'''hellowworld''':(10,20,30),\"abc\":None,10.6:{\"a\":10}}\n",
    "print(d,type(d))#python contenet\n",
    "res=json.dumps(d)\n",
    "fp.write(res)\n",
    "fp.close()\n",
    "\n",
    "print(\"_ _\"*30)\n",
    "fp=open(\"file.json\",'r')\n",
    "res=fp.read()\n",
    "temp=json.loads(res)\n",
    "print(temp,type(temp))#python content\n",
    "fp.close( 0)"
   ]
  },
  {
   "cell_type": "code",
   "execution_count": 20,
   "metadata": {},
   "outputs": [
    {
     "name": "stdout",
     "output_type": "stream",
     "text": [
      " _  _  _  _  _  _  _  _  _  _  _  _  _  _  _  _  _  _  _  _  _  _  _  _  _  _  _  _  _  _ \n",
      "{'10': 10.5, 'true': False, 'helloworld': [10, 20, 30], 'abc': None, '10.6': {'a': 10}} <class 'dict'>\n"
     ]
    }
   ],
   "source": [
    "import json\n",
    "fp=open(\"file2.json\",\"w\")\n",
    "d={10:10.5,True:False,'''helloworld''':(10,20,30),\"abc\":None,10.6:{\"a\":10}}\n",
    "json.dump(d,fp)\n",
    "fp.close()\n",
    "print(\" _ \"*30)\n",
    "\n",
    "fp=open(\"file2.json\",'r')\n",
    "temp=json.load(fp)\n",
    "print(temp,type(temp))#python content\n",
    "fp.close()\n"
   ]
  },
  {
   "cell_type": "code",
   "execution_count": 33,
   "metadata": {},
   "outputs": [
    {
     "name": "stdout",
     "output_type": "stream",
     "text": [
      "{10: 10.5, True: False, 'helloworld': (10, 20, 30), 'abc': None, 10.6: {'a': 10}} <class 'dict'>\n",
      "b'\\x80\\x04\\x95@\\x00\\x00\\x00\\x00\\x00\\x00\\x00}\\x94(K\\nG@%\\x00\\x00\\x00\\x00\\x00\\x00\\x88\\x89\\x8c\\nhelloworld\\x94K\\nK\\x14K\\x1e\\x87\\x94\\x8c\\x03abc\\x94NG@%333333}\\x94\\x8c\\x01a\\x94K\\nsu.'\n",
      "________________________________________________________________________________________________________________________________________________________________________________________________________\n",
      "b'\\x80\\x04\\x95@\\x00\\x00\\x00\\x00\\x00\\x00\\x00}\\x94(K\\nG@%\\x00\\x00\\x00\\x00\\x00\\x00\\x88\\x89\\x8c\\nhelloworld\\x94K\\nK\\x14K\\x1e\\x87\\x94\\x8c\\x03abc\\x94NG@%333333}\\x94\\x8c\\x01a\\x94K\\nsu.' <class 'bytes'>\n",
      "{10: 10.5, True: False, 'helloworld': (10, 20, 30), 'abc': None, 10.6: {'a': 10}} <class 'dict'>\n"
     ]
    }
   ],
   "source": [
    "import pickle\n",
    "d={10:10.5,True:False,'''helloworld''':(10,20,30),\"abc\":None,10.6:{\"a\":10}}\n",
    "print(d,type(d))\n",
    "res=pickle.dumps(d)\n",
    "print(res)\n",
    "  \n",
    "print(\"____\"*50)  \n",
    "#binary to python conversion\n",
    "print(res,type(res))\n",
    "temp=pickle.loads(res)\n",
    "print(temp,type(temp))\n"
   ]
  },
  {
   "cell_type": "code",
   "execution_count": 43,
   "metadata": {},
   "outputs": [
    {
     "name": "stdout",
     "output_type": "stream",
     "text": [
      "b'\\x80\\x04\\x95@\\x00\\x00\\x00\\x00\\x00\\x00\\x00}\\x94(K\\nG@%\\x00\\x00\\x00\\x00\\x00\\x00\\x88\\x89\\x8c\\nhelloworld\\x94K\\nK\\x14K\\x1e\\x87\\x94\\x8c\\x03abc\\x94NG@%333333}\\x94\\x8c\\x01a\\x94K\\nsu.' <class 'bytes'>\n",
      "________________________________________________________________________________________________________________________________________________________________________________________________________\n",
      "{10: 10.5, True: False, 'helloworld': (10, 20, 30), 'abc': None, 10.6: {'a': 10}} <class 'bytes'>\n"
     ]
    }
   ],
   "source": [
    "#by using the file\n",
    "import pickle\n",
    "d={10:10.5,True:False,'''helloworld''':(10,20,30),\"abc\":None,10.6:{\"a\":10}}\n",
    "fp=open(\"file3.pickel\",\"wb\")\n",
    "res=pickle.dumps(d)\n",
    "fp.write(res)\n",
    "fp.close()\n",
    "print(res,type(res))\n",
    "print(\"____\"*50)\n",
    "#reading the byte contant of the file\n",
    "fp=open(\"file3.pickel\",\"rb\")\n",
    "temp=pickle.loads(res)\n",
    "print(temp,type(res))\n",
    "fp.read()\n",
    "fp.close()\n"
   ]
  },
  {
   "cell_type": "code",
   "execution_count": 44,
   "metadata": {},
   "outputs": [
    {
     "name": "stdout",
     "output_type": "stream",
     "text": [
      "None <class 'NoneType'>\n"
     ]
    }
   ],
   "source": [
    "#reading the file withoud then write or read function\n",
    "import pickle\n",
    "d={10:10.5,True:False,'''helloworld''':(10,20,30),\"abc\":None,10.6:{\"a\":10}}\n",
    "fp=open(\"file4.json\",\"wb\")\n",
    "res=pickle.dump(d,fp)\n",
    "print(res,type(res))\n",
    "fp.close()\n"
   ]
  },
  {
   "cell_type": "code",
   "execution_count": null,
   "metadata": {},
   "outputs": [],
   "source": []
  },
  {
   "cell_type": "code",
   "execution_count": 15,
   "metadata": {},
   "outputs": [
    {
     "name": "stdout",
     "output_type": "stream",
     "text": [
      "(5,)\n"
     ]
    }
   ],
   "source": [
    "a=5\n",
    "b=()\n",
    "c=b+(a,)\n",
    "print(c)"
   ]
  },
  {
   "cell_type": "code",
   "execution_count": 19,
   "metadata": {},
   "outputs": [
    {
     "name": "stdout",
     "output_type": "stream",
     "text": [
      "-5.8\n"
     ]
    }
   ],
   "source": [
    "a=-58\n",
    "b=a/10\n",
    "print(b)"
   ]
  },
  {
   "cell_type": "code",
   "execution_count": 56,
   "metadata": {},
   "outputs": [
    {
     "name": "stdout",
     "output_type": "stream",
     "text": [
      "even : -58\n",
      "2\n"
     ]
    }
   ],
   "source": [
    "a=-58\n",
    "if a%2==0:\n",
    "    print(\"even :\",a)\n",
    "    rem=a%10\n",
    "    print(rem)\n",
    "    #div=divisor *quotient+rem\n",
    "    #-rem=-58*x+10\n",
    "    "
   ]
  },
  {
   "cell_type": "code",
   "execution_count": 53,
   "metadata": {},
   "outputs": [
    {
     "name": "stdout",
     "output_type": "stream",
     "text": [
      "[10] <class 'list'>\n"
     ]
    }
   ],
   "source": [
    "a=10\n",
    "l=list([10])\n",
    "print(l,type(l))"
   ]
  },
  {
   "cell_type": "code",
   "execution_count": 47,
   "metadata": {},
   "outputs": [
    {
     "name": "stdout",
     "output_type": "stream",
     "text": [
      "5 *  1 = 5\n",
      "5 *  2 = 10\n",
      "5 *  3 = 15\n",
      "5 *  4 = 20\n",
      "5 *  5 = 25\n",
      "5 *  6 = 30\n",
      "5 *  7 = 35\n",
      "5 *  8 = 40\n",
      "5 *  9 = 45\n",
      "5 *  10 = 50\n"
     ]
    }
   ],
   "source": [
    "for i in range(1,11):\n",
    "    print(\"5 * \",i,\"=\",5*i)"
   ]
  },
  {
   "cell_type": "code",
   "execution_count": 113,
   "metadata": {},
   "outputs": [
    {
     "name": "stdout",
     "output_type": "stream",
     "text": [
      "hii\n"
     ]
    }
   ],
   "source": [
    "m=25\n",
    "if type(m)==int:\n",
    "    print(\"hii\")"
   ]
  },
  {
   "cell_type": "code",
   "execution_count": 7,
   "metadata": {},
   "outputs": [
    {
     "name": "stdout",
     "output_type": "stream",
     "text": [
      "['+92 9988775566', '+918974512632']\n"
     ]
    }
   ],
   "source": [
    "import re\n",
    "data='''welcome to new world +92 9988775566 \n",
    " and +918974512632 and 6544887766 1800 985 456 1800668477 2586959886  '''\n",
    "res=re.findall('\\+[0-9]{2}\\s?[6789]{1}[0-9]{9}',data)\n",
    "print(res)\n"
   ]
  },
  {
   "cell_type": "code",
   "execution_count": 14,
   "metadata": {},
   "outputs": [
    {
     "name": "stdout",
     "output_type": "stream",
     "text": [
      "['9988775566', '9189745126', '6544887766', '1800 985 456', '1800668477']\n"
     ]
    }
   ],
   "source": [
    "import re\n",
    "data='''welcome to new world +92 9988775566 \n",
    " and +918974512632 and 6544887766 1800 985 456 1800668477 2586959886  '''\n",
    "res=re.findall('[16789]{1}\\d{3}\\s?\\d{3}\\s?\\d{3}',data)\n",
    "print(res)\n"
   ]
  },
  {
   "cell_type": "code",
   "execution_count": null,
   "metadata": {},
   "outputs": [
    {
     "name": "stdout",
     "output_type": "stream",
     "text": [
      "['+92 9988775566 ', '+918974512632 ', ' 6544887766', ' 1800 985 456', ' 1800668477']\n"
     ]
    }
   ],
   "source": [
    "import re\n",
    "data='''welcome to new world +92 9988775566 \n",
    " and +918974512632 and 6544887766 1800 985 456 1800668477 2586959886  '''\n",
    "res=re.findall('\\+[0-9]{2}\\s?[6789]{1}[0-9]{9} | [16789]{1}\\d{3}\\s?\\d{3}\\s?\\d{3}',data)\n",
    "print(res)\n"
   ]
  },
  {
   "cell_type": "code",
   "execution_count": 1,
   "metadata": {},
   "outputs": [
    {
     "name": "stdout",
     "output_type": "stream",
     "text": [
      "hii\n"
     ]
    }
   ],
   "source": [
    "print(\"hii\")"
   ]
  },
  {
   "cell_type": "code",
   "execution_count": 30,
   "metadata": {},
   "outputs": [
    {
     "name": "stdout",
     "output_type": "stream",
     "text": [
      "b value is : 200\n",
      "the value d is : 20\n",
      "10 30\n",
      "20\n",
      "b value is : 200\n",
      "200\n"
     ]
    }
   ],
   "source": [
    "class Parent:\n",
    "    a=10\n",
    "    def __init__(self):\n",
    "        self.b=200\n",
    "        print(\"b value is :\",self.b)\n",
    "    def \n",
    "\n",
    "class child(Parent):\n",
    "    c=30\n",
    "    def __init__(self):\n",
    "        super().__init__()\n",
    "        self.d=20\n",
    "        print(\"the value d is :\",self.d)\n",
    "c1=child()\n",
    "print(c1.a,c1.c)\n",
    "print(c1.d)\n",
    "print(Parent().b)"
   ]
  },
  {
   "cell_type": "code",
   "execution_count": 33,
   "metadata": {},
   "outputs": [
    {
     "name": "stdout",
     "output_type": "stream",
     "text": [
      "moo2 1500 black\n"
     ]
    }
   ],
   "source": [
    "#calling the \n",
    "class Mobile:\n",
    "    brand=\"apple\"\n",
    "    os=\"apple os\"\n",
    "    def __init__(self,series,prize,color):\n",
    "        self.series=series\n",
    "        self.prize=prize\n",
    "        self.color=color\n",
    "        print(self.series,self.prize,self.color)\n",
    "class M2(Mobile):\n",
    "    phone=1800168172\n",
    "    adress=\"HYD\"\n",
    "obj=M2(\"moo2\",1500,\"black\")\n",
    "\n"
   ]
  },
  {
   "cell_type": "code",
   "execution_count": null,
   "metadata": {},
   "outputs": [],
   "source": []
  }
 ],
 "metadata": {
  "kernelspec": {
   "display_name": "Python 3",
   "language": "python",
   "name": "python3"
  },
  "language_info": {
   "codemirror_mode": {
    "name": "ipython",
    "version": 3
   },
   "file_extension": ".py",
   "mimetype": "text/x-python",
   "name": "python",
   "nbconvert_exporter": "python",
   "pygments_lexer": "ipython3",
   "version": "3.11.4"
  },
  "orig_nbformat": 4
 },
 "nbformat": 4,
 "nbformat_minor": 2
}
