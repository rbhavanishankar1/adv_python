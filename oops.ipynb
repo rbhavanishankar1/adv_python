{
 "cells": [
  {
   "cell_type": "code",
   "execution_count": 33,
   "metadata": {},
   "outputs": [],
   "source": [
    "# def cls_method(func):\n",
    "#     def inner(*args,**kwargs):\n",
    "#         print(\"hii\")\n",
    "#         func(*args,**kwargs)\n",
    "#     return inner\n"
   ]
  },
  {
   "cell_type": "code",
   "execution_count": 34,
   "metadata": {},
   "outputs": [
    {
     "name": "stdout",
     "output_type": "stream",
     "text": [
      "[10, 20, 30, 40, 50] {'a': 10, 'b': 20}\n",
      "[10, 500, 30, 40, 50] {'a': 10, 'b': 20}\n",
      "[10, 500, 30, 40, 50, 'abc', 'a', 'b', 'c'] {'a': 10, 'b': 20, 'c': 30}\n",
      "[10, 500, 30, 40, 50, 'a', 'b', 'c'] {'a': 10, 'b': 20, 'c': 30}\n",
      "[10, 500, 'c'] {'a': 10, 'b': 20, 'c': 30}\n",
      "[10, 500, 'c'] {'b': 20, 'c': 30}\n"
     ]
    }
   ],
   "source": [
    "class sample:\n",
    "    x=[10,20,30,40,50]\n",
    "\n",
    "#creating\n",
    "sample.y={\"a\":10,\"b\":20}\n",
    "#read\n",
    "print(sample.x,sample.y)\n",
    "#update\n",
    "sample.x[1]=500\n",
    "print(sample.x,sample.y)\n",
    "#append\n",
    "sample.y[\"c\"]=30\n",
    "sample.x+=[\"abc\"]\n",
    "sample.x+=\"abc\"\n",
    "print(sample.x,sample.y)\n",
    "#del\n",
    "del sample.x[5]\n",
    "print(sample.x,sample.y)\n",
    "del sample.x[2:7]\n",
    "print(sample.x,sample.y)\n",
    "del sample.y[\"a\"]\n",
    "print(sample.x,sample.y)\n"
   ]
  },
  {
   "cell_type": "code",
   "execution_count": 35,
   "metadata": {},
   "outputs": [
    {
     "data": {
      "text/plain": [
       "mappingproxy({'__module__': '__main__',\n",
       "              'x': [10, 500, 'c'],\n",
       "              '__dict__': <attribute '__dict__' of 'sample' objects>,\n",
       "              '__weakref__': <attribute '__weakref__' of 'sample' objects>,\n",
       "              '__doc__': None,\n",
       "              'y': {'b': 20, 'c': 30}})"
      ]
     },
     "execution_count": 35,
     "metadata": {},
     "output_type": "execute_result"
    }
   ],
   "source": [
    "sample.__dict__\n"
   ]
  },
  {
   "cell_type": "code",
   "execution_count": 38,
   "metadata": {},
   "outputs": [
    {
     "name": "stdout",
     "output_type": "stream",
     "text": [
      "[10, 20, 30]\n"
     ]
    }
   ],
   "source": [
    "class demo:\n",
    "       x=[10,20,30]\n",
    "\n",
    "def display(cls):\n",
    "    print(cls.x)\n",
    "display(demo)\n",
    "\n",
    "\n",
    "        "
   ]
  },
  {
   "cell_type": "code",
   "execution_count": 40,
   "metadata": {},
   "outputs": [
    {
     "ename": "TypeError",
     "evalue": "demo.cls_display() missing 1 required positional argument: 'cls'",
     "output_type": "error",
     "traceback": [
      "\u001b[1;31m---------------------------------------------------------------------------\u001b[0m",
      "\u001b[1;31mTypeError\u001b[0m                                 Traceback (most recent call last)",
      "Cell \u001b[1;32mIn[40], line 6\u001b[0m\n\u001b[0;32m      4\u001b[0m        \u001b[39mdef\u001b[39;00m \u001b[39mcls_display\u001b[39m(\u001b[39mcls\u001b[39m):\n\u001b[0;32m      5\u001b[0m             \u001b[39mprint\u001b[39m(\u001b[39mcls\u001b[39m\u001b[39m.\u001b[39mx)\n\u001b[1;32m----> 6\u001b[0m demo\u001b[39m.\u001b[39;49mcls_display()      \n",
      "\u001b[1;31mTypeError\u001b[0m: demo.cls_display() missing 1 required positional argument: 'cls'"
     ]
    }
   ],
   "source": [
    "class demo:\n",
    "       x=[10,20,30]\n",
    "\n",
    "       def cls_display(cls):\n",
    "            print(cls.x)\n",
    "demo.cls_display()      "
   ]
  },
  {
   "cell_type": "code",
   "execution_count": 42,
   "metadata": {},
   "outputs": [
    {
     "name": "stdout",
     "output_type": "stream",
     "text": [
      "[1, 2, 34, 5]\n"
     ]
    }
   ],
   "source": [
    "#to over come this problem\n",
    "class demo:\n",
    "    x=[1,2,34,5]\n",
    "    @classmethod\n",
    "    def Display(cls):\n",
    "        print(cls.x)\n",
    "demo.Display()"
   ]
  },
  {
   "cell_type": "code",
   "execution_count": 54,
   "metadata": {},
   "outputs": [
    {
     "name": "stdout",
     "output_type": "stream",
     "text": [
      "[1, 2, 34, 5]\n",
      "[1, 2, '525', 5]\n"
     ]
    }
   ],
   "source": [
    "#to over come this problem\n",
    "class demo:\n",
    "    x=[1,2,34,5]\n",
    "    @classmethod\n",
    "    def Display(cls):\n",
    "        print(cls.x)\n",
    "    @classmethod\n",
    "    def Modify(cls,pos=0,val=0):\n",
    "        pos=int(input(\"enter the position\"))\n",
    "        val=input(\"enter the number\")\n",
    "        cls.x[pos]=val\n",
    "        print(cls.x)\n",
    "demo.Display()\n",
    "demo.Modify()"
   ]
  },
  {
   "cell_type": "code",
   "execution_count": 60,
   "metadata": {},
   "outputs": [
    {
     "name": "stdout",
     "output_type": "stream",
     "text": [
      "[1, 2, 34, 5]\n",
      "[1, 2, 34, 5, '2565']\n"
     ]
    }
   ],
   "source": [
    "#to over come this problem\n",
    "class demo:\n",
    "    x=[1,2,34,5]\n",
    "    @classmethod\n",
    "    def Display(cls):\n",
    "        print(cls.x)\n",
    "    @classmethod\n",
    "    def Modify(cls,pos=0,val=0):\n",
    "        pos=int(input(\"enter the position\"))\n",
    "        val=input(\"enter the number\")\n",
    "        cls.x[pos]=val\n",
    "        print(cls.x)\n",
    "    @classmethod\n",
    "    def append(cls,app=0):\n",
    "        app=input(\"enter the number\")\n",
    "        #cls.x.append(app)\n",
    "        cls.x+=[app]\n",
    "        print(cls.x)\n",
    "\n",
    "demo.Display()\n",
    "demo.append()"
   ]
  },
  {
   "cell_type": "code",
   "execution_count": 62,
   "metadata": {},
   "outputs": [
    {
     "name": "stdout",
     "output_type": "stream",
     "text": [
      "pys\n",
      "ram 56\n"
     ]
    }
   ],
   "source": [
    "class college:\n",
    "    Coll_name=\"pys\"\n",
    "    def __init__(self,name,age):\n",
    "        self.name=name\n",
    "        self.age=age\n",
    "    @classmethod\n",
    "    def cls_display(cls):\n",
    "        print(cls.Coll_name)\n",
    "    def obj_display(self):\n",
    "        print(self.name,self.age)\n",
    "ramu=college(\"ram\",56) # object creation\n",
    "ramu.cls_display()\n",
    "college.\n",
    "ramu.obj_display()"
   ]
  },
  {
   "cell_type": "code",
   "execution_count": null,
   "metadata": {},
   "outputs": [],
   "source": []
  },
  {
   "cell_type": "code",
   "execution_count": null,
   "metadata": {},
   "outputs": [],
   "source": []
  },
  {
   "cell_type": "code",
   "execution_count": null,
   "metadata": {},
   "outputs": [],
   "source": []
  },
  {
   "cell_type": "code",
   "execution_count": null,
   "metadata": {},
   "outputs": [],
   "source": []
  },
  {
   "cell_type": "code",
   "execution_count": null,
   "metadata": {},
   "outputs": [],
   "source": []
  },
  {
   "cell_type": "code",
   "execution_count": null,
   "metadata": {},
   "outputs": [],
   "source": []
  },
  {
   "cell_type": "code",
   "execution_count": null,
   "metadata": {},
   "outputs": [],
   "source": []
  },
  {
   "cell_type": "code",
   "execution_count": null,
   "metadata": {},
   "outputs": [],
   "source": []
  },
  {
   "cell_type": "code",
   "execution_count": null,
   "metadata": {},
   "outputs": [],
   "source": []
  },
  {
   "cell_type": "code",
   "execution_count": null,
   "metadata": {},
   "outputs": [],
   "source": []
  },
  {
   "cell_type": "code",
   "execution_count": null,
   "metadata": {},
   "outputs": [],
   "source": []
  }
 ],
 "metadata": {
  "kernelspec": {
   "display_name": "Python 3",
   "language": "python",
   "name": "python3"
  },
  "language_info": {
   "codemirror_mode": {
    "name": "ipython",
    "version": 3
   },
   "file_extension": ".py",
   "mimetype": "text/x-python",
   "name": "python",
   "nbconvert_exporter": "python",
   "pygments_lexer": "ipython3",
   "version": "3.11.4"
  },
  "orig_nbformat": 4
 },
 "nbformat": 4,
 "nbformat_minor": 2
}
