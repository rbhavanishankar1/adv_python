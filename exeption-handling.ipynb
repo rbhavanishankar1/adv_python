{
 "cells": [
  {
   "cell_type": "code",
   "execution_count": null,
   "metadata": {},
   "outputs": [],
   "source": [
    "print(\"hii\")"
   ]
  },
  {
   "cell_type": "code",
   "execution_count": null,
   "metadata": {},
   "outputs": [],
   "source": [
    "a=int(input(\"enter a value\"))\n",
    "b=int(input(\"enter b value\"))\n",
    "c=a/b\n",
    "print(\"the div value is : \",c)"
   ]
  },
  {
   "cell_type": "code",
   "execution_count": null,
   "metadata": {},
   "outputs": [],
   "source": [
    "#to handling the runtime errors we uses the exception handlng by try,except,finnaly\n",
    "a=eval(input(\"enter a value\"))\n",
    "b=eval(input(\"enter b value\"))\n",
    "c=a/b\n",
    "print(\"the div value is : \",c)"
   ]
  },
  {
   "cell_type": "code",
   "execution_count": null,
   "metadata": {},
   "outputs": [],
   "source": [
    "#to handle the runtime error\n",
    "a=eval(input(\"enter a value\"))\n",
    "b=eval(input(\"enter b value\"))\n",
    "if b!=0:\n",
    "    c=a/b\n",
    "    print(\"the div value is : \",c)\n",
    "else:\n",
    "    print(\"inavlid input\")"
   ]
  },
  {
   "cell_type": "code",
   "execution_count": null,
   "metadata": {},
   "outputs": [],
   "source": [
    "#exception handling by the try block and except block\n",
    "try:\n",
    "    a1=eval(input(\"enter a1 value\"))\n",
    "    b1=eval(input(\"enter b1 value\"))\n",
    "    c1=a/b\n",
    "except:\n",
    "    print(\"incoorect input\")\n",
    "    b=eval(input(\"enter b1 value\"))\n",
    "    c1=a1/b1\n",
    "finally:\n",
    "    print(\"output:\",c1)\n"
   ]
  },
  {
   "cell_type": "code",
   "execution_count": 21,
   "metadata": {},
   "outputs": [
    {
     "name": "stdout",
     "output_type": "stream",
     "text": [
      "output: 12.5\n"
     ]
    }
   ],
   "source": [
    "#exception handling by the try block and except block\n",
    "try:\n",
    "    a1=int(input(\"enter a1 value\"))\n",
    "    b1=int(input(\"enter b1 value\"))\n",
    "    d=a/b\n",
    "except ZeroDivisionError:\n",
    "    print(\"incoorect input\")\n",
    "    b=int(input(\"enter b1 value\"))\n",
    "    d=a1/b1\n",
    "finally:\n",
    "    print(\"output:\",c1)\n"
   ]
  },
  {
   "cell_type": "code",
   "execution_count": 35,
   "metadata": {},
   "outputs": [
    {
     "name": "stdout",
     "output_type": "stream",
     "text": [
      "incoorect input\n",
      "ZeroDivisionError 12.5\n",
      "output: 2.5\n"
     ]
    }
   ],
   "source": [
    "#exception handling by the try block and except block\n",
    "try:\n",
    "    a1=int(input(\"enter a1 value\"))\n",
    "    b1=int(input(\"enter b1 value\"))\n",
    "    d=a1/b1\n",
    "except ZeroDivisionError:\n",
    "    print(\"incoorect input\")\n",
    "    b1=int(input(\"enter b1 value\"))\n",
    "    d1=a1/b1\n",
    "    print(\"ZeroDivisionError\",d1)\n",
    "except ValueError:\n",
    "    print(\"invalid value\")\n",
    "    b1=int(input(\"enter b1 value\"))\n",
    "    d1=a1/b1\n",
    "    print(\"ValueError\",d1)\n",
    "\n",
    "finally:\n",
    "    print(\"output:\",d)\n"
   ]
  },
  {
   "cell_type": "code",
   "execution_count": 38,
   "metadata": {},
   "outputs": [
    {
     "name": "stdout",
     "output_type": "stream",
     "text": [
      "10\n",
      "20\n",
      "30\n",
      "40\n",
      "50\n",
      "60\n",
      "70\n",
      "80\n",
      "value is not found\n"
     ]
    }
   ],
   "source": [
    "#generic exception\n",
    "st=[10,20,30,40,50,60,70,80]\n",
    "try:\n",
    "    for i in range(0,len(st)+1):\n",
    "        print(st[i])\n",
    "except Exception:\n",
    "    print(\"value is not found\")"
   ]
  },
  {
   "cell_type": "code",
   "execution_count": 40,
   "metadata": {},
   "outputs": [
    {
     "name": "stdout",
     "output_type": "stream",
     "text": [
      "10\n",
      "given varaiable is not available\n",
      "{}\n"
     ]
    }
   ],
   "source": [
    "class sample:\n",
    "    x=10\n",
    "    def __init__(self):\n",
    "        pass\n",
    "try:\n",
    "    obj=sample()\n",
    "    print(obj.x)\n",
    "    print(obj.s)\n",
    "except Exception:\n",
    "    print(\"given varaiable is not available\")\n",
    "print(obj.__dict__)"
   ]
  },
  {
   "cell_type": "code",
   "execution_count": null,
   "metadata": {},
   "outputs": [],
   "source": [
    "# #default excetion block\n",
    "# it can handill any thype of exception passing exception and special exception \n",
    "# this block ontains any type of exception \n",
    "# in the default exception we dont want to display the type of exception \n",
    "# buut dynamically it can handle any type of exception\n",
    "#synax:\n",
    "'''\n",
    "try:\n",
    "     statement;\n",
    "\n",
    "exception Exception:\n",
    "     statement\n",
    "\n",
    "\n",
    "\n",
    "'''"
   ]
  },
  {
   "cell_type": "code",
   "execution_count": 2,
   "metadata": {},
   "outputs": [
    {
     "name": "stdout",
     "output_type": "stream",
     "text": [
      "0 1 2 3 4 output is: 5\n"
     ]
    }
   ],
   "source": [
    "#hardware intrupt we shoud run the code in the idle and press crtl+enter\n",
    "c=eval(input(\"enter yhe value\"))\n",
    "try:\n",
    "    for i in range(0,c):\n",
    "        print(i,end=\" \")\n",
    "except:\n",
    "    print(\"programming is stopped\")\n",
    "finally:\n",
    "    print(\"output is:\",c)"
   ]
  },
  {
   "cell_type": "code",
   "execution_count": 6,
   "metadata": {},
   "outputs": [
    {
     "name": "stdout",
     "output_type": "stream",
     "text": [
      "enter the try block\n",
      "programming is stopped\n",
      "output is: 58.23\n"
     ]
    }
   ],
   "source": [
    "#sofwre intrupt we have given the input has the float wher float is ot accepted by the range\n",
    "c=eval(input(\"enter yhe value\"))\n",
    "try:\n",
    "    print(\"enter the try block\")\n",
    "    for i in range(0,c):\n",
    "        print(i,end=\" \")\n",
    "    print(\"end of  the try block\")\n",
    "except:\n",
    "    print(\"programming is stopped\")\n",
    "finally:\n",
    "    print(\"output is:\",c)"
   ]
  },
  {
   "cell_type": "code",
   "execution_count": null,
   "metadata": {},
   "outputs": [],
   "source": [
    "#exception handling by the try block and except block\n",
    "try:\n",
    "    a1=eval(input(\"enter a1 value\"))\n",
    "    b1=eval(input(\"enter b1 value\"))\n",
    "    c1=a1/b1\n",
    "    for i in range(0,c1):\n",
    "        print(i,end=\" \")\n",
    "except:\n",
    "    print(\"incoorect input\")\n",
    "    try:\n",
    "        for i in range(0,c1):\n",
    "            print(i,end=\" \")\n",
    "    except:\n",
    "        print(\"programme is stopped\")\n",
    "    b1=eval(input(\"enter b1 value\"))\n",
    "    c1=a1/b1\n",
    "finally:\n",
    "    print(\"output:\",c1)\n"
   ]
  },
  {
   "cell_type": "code",
   "execution_count": null,
   "metadata": {},
   "outputs": [],
   "source": []
  },
  {
   "cell_type": "markdown",
   "metadata": {},
   "source": [
    "<!-- it is one type of excption block \n",
    "   finally block execute wherter the excetion is raised or not it \n",
    "   eill not care ut finnaly block is executed\n",
    "   the finally block is optional \n",
    "   finally block is present exception block defaulty will execute finnaly block\n",
    "   inside finnaly block what are the statements are availableare exexuted\n",
    "\n",
    "\n",
    "   syntax:\n",
    "finally\n",
    "\n",
    "\n",
    "\n",
    "#order of prefference\n",
    "1.specific\n",
    "-->\n"
   ]
  },
  {
   "cell_type": "code",
   "execution_count": null,
   "metadata": {},
   "outputs": [],
   "source": [
    "'''\n",
    "# user defined exception user can define the exception based on user senarioA\n",
    "#to craete user define exception we want to use parent exception calss called Exception\n",
    "\n",
    "syntax:\n",
    "    class cutomException(Exception):\n",
    "        def __init__(self,msg):\n",
    "\n",
    "\n",
    "'''"
   ]
  },
  {
   "cell_type": "code",
   "execution_count": null,
   "metadata": {},
   "outputs": [],
   "source": []
  },
  {
   "cell_type": "code",
   "execution_count": 9,
   "metadata": {},
   "outputs": [
    {
     "ename": "PhoneException",
     "evalue": "inavid inputs",
     "output_type": "error",
     "traceback": [
      "\u001b[1;31m---------------------------------------------------------------------------\u001b[0m",
      "\u001b[1;31mPhoneException\u001b[0m                            Traceback (most recent call last)",
      "Cell \u001b[1;32mIn[9], line 8\u001b[0m\n\u001b[0;32m      6\u001b[0m b\u001b[39m=\u001b[39m\u001b[39m20\u001b[39m\n\u001b[0;32m      7\u001b[0m \u001b[39mif\u001b[39;00m a\u001b[39m+\u001b[39mb\u001b[39m==\u001b[39m\u001b[39m30\u001b[39m:\n\u001b[1;32m----> 8\u001b[0m     \u001b[39mraise\u001b[39;00m PhoneException(\u001b[39m\"\u001b[39m\u001b[39minavid inputs\u001b[39m\u001b[39m\"\u001b[39m)\n",
      "\u001b[1;31mPhoneException\u001b[0m: inavid inputs"
     ]
    }
   ],
   "source": [
    "class PhoneException(Exception):\n",
    "    def __init__(self,msg=None):\n",
    "        self.msg=msg\n",
    "\n",
    "a=10\n",
    "b=20\n",
    "if a+b==30:\n",
    "    raise PhoneException(\"inavid inputs\")\n"
   ]
  },
  {
   "cell_type": "markdown",
   "metadata": {},
   "source": [
    "raise is a pre defined keyword it will accept\n",
    "exception class either user defined excpetio/pre defined exception class\n",
    "once controller key is raise keyword then intr=erpretur will stop the excution of th programme\n",
    "it will raise the exceptions/it will show the exception to the user\n",
    "after raise keyword what ever the staements are available those staments are not available\n",
    "it is used for to raise the excption\n"
   ]
  },
  {
   "cell_type": "code",
   "execution_count": null,
   "metadata": {},
   "outputs": [],
   "source": [
    "class product:\n",
    "    product_details={}\n",
    "    p_count=0\n",
    "    company_name=\"wipro\"\n",
    "    def __init__(self,p_name,p_desc,p_price,discount):\n",
    "        self.p_name=p_name\n",
    "        self.p_desc=p_desc\n",
    "        self.p_price=p_price\n",
    "        self.discount=discount\n",
    "        self.product_details_inc()\n",
    "\n",
    "        @classmethod\n",
    "        def details_inc(cls,p_id,p_value)"
   ]
  },
  {
   "cell_type": "code",
   "execution_count": null,
   "metadata": {},
   "outputs": [],
   "source": []
  },
  {
   "cell_type": "code",
   "execution_count": null,
   "metadata": {},
   "outputs": [],
   "source": []
  },
  {
   "cell_type": "code",
   "execution_count": null,
   "metadata": {},
   "outputs": [],
   "source": []
  }
 ],
 "metadata": {
  "kernelspec": {
   "display_name": "Python 3",
   "language": "python",
   "name": "python3"
  },
  "language_info": {
   "codemirror_mode": {
    "name": "ipython",
    "version": 3
   },
   "file_extension": ".py",
   "mimetype": "text/x-python",
   "name": "python",
   "nbconvert_exporter": "python",
   "pygments_lexer": "ipython3",
   "version": "3.11.5"
  },
  "orig_nbformat": 4
 },
 "nbformat": 4,
 "nbformat_minor": 2
}
