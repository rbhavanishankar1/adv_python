{
 "cells": [
  {
   "cell_type": "code",
   "execution_count": 3,
   "metadata": {},
   "outputs": [
    {
     "name": "stdout",
     "output_type": "stream",
     "text": [
      "b value is : 200\n",
      "the value d is : 20\n",
      "10 30\n",
      "20\n",
      "b value is : 200\n",
      "200\n"
     ]
    }
   ],
   "source": [
    "class Parent:\n",
    "    a=10\n",
    "    def __init__(self):\n",
    "        self.b=200\n",
    "        print(\"b value is :\",self.b)\n",
    "\n",
    "\n",
    "class child(Parent):\n",
    "    c=30\n",
    "    def __init__(self):\n",
    "        super().__init__()\n",
    "        self.d=20\n",
    "        print(\"the value d is :\",self.d)\n",
    "c1=child()\n",
    "print(c1.a,c1.c)\n",
    "print(c1.d)\n",
    "print(Parent().b)"
   ]
  },
  {
   "cell_type": "code",
   "execution_count": 10,
   "metadata": {},
   "outputs": [
    {
     "name": "stdout",
     "output_type": "stream",
     "text": [
      "moo2 1500 black\n",
      "mooo3 1800 blue\n"
     ]
    }
   ],
   "source": [
    "#calling the \n",
    "class Mobile:\n",
    "    brand=\"apple\"\n",
    "    os=\"apple os\"\n",
    "    def __init__(self,series,prize,color):\n",
    "        self.series=series\n",
    "        self.prize=prize\n",
    "        self.color=color\n",
    "        print(self.series,self.prize,self.color)\n",
    "class M2(Mobile):\n",
    "    phone=1800168172\n",
    "    adress=\"HYD\"\n",
    "obj=M2(\"moo2\",1500,\"black\")\n",
    "p_obj=Mobile(\"mooo3\",1800,\"blue\")\n",
    "\n"
   ]
  },
  {
   "cell_type": "code",
   "execution_count": 17,
   "metadata": {},
   "outputs": [
    {
     "name": "stdout",
     "output_type": "stream",
     "text": [
      "apple apple os\n",
      "apple apple os\n",
      "moo2 1500 black\n"
     ]
    }
   ],
   "source": [
    "print(M2.brand,M2.os)#calling the paren variable by child class name\n",
    "print(Mobile.brand,Mobile.os)#calling the parent variable by parent class\n",
    "\n",
    "print(obj.series,obj.prize,obj.color)#calling the parent variable by the using the child obj\n"
   ]
  },
  {
   "cell_type": "code",
   "execution_count": 36,
   "metadata": {},
   "outputs": [
    {
     "name": "stdout",
     "output_type": "stream",
     "text": [
      "b value is : 200\n",
      "parent constructor\n",
      "the value d is : 20\n",
      "10 30\n",
      "20\n",
      "200\n"
     ]
    }
   ],
   "source": [
    "class Parent:\n",
    "    a=10\n",
    "    def __init__(self,color1):\n",
    "        self.b=200\n",
    "        self.color1=color1\n",
    "        print(\"b value is :\",self.b)\n",
    "        print(\"parent constructor\")\n",
    "\n",
    "\n",
    "class child(Parent):\n",
    "    c=30\n",
    "    def __init__(self,color2):\n",
    "        self.color2=color2\n",
    "        super().__init__(\"red\")\n",
    "        self.d=20\n",
    "        print(\"the value d is :\",self.d)\n",
    "c1=child(\"black\")\n",
    "print(c1.a,c1.c)\n",
    "print(c1.d)\n",
    "print(c1.b)"
   ]
  },
  {
   "cell_type": "code",
   "execution_count": 27,
   "metadata": {},
   "outputs": [
    {
     "name": "stdout",
     "output_type": "stream",
     "text": [
      "parent init\n",
      "parent init\n"
     ]
    }
   ],
   "source": [
    "class parent:\n",
    "    x=10\n",
    "    def __init__(self):\n",
    "        print(\"parent init\")\n",
    "class child(parent):\n",
    "    y=20\n",
    "x=parent()\n",
    "y=child()\n"
   ]
  },
  {
   "cell_type": "code",
   "execution_count": 30,
   "metadata": {},
   "outputs": [
    {
     "name": "stdout",
     "output_type": "stream",
     "text": [
      "parent init\n",
      "child init\n"
     ]
    }
   ],
   "source": [
    "class parent:\n",
    "    x=10\n",
    "    def __init__(self):\n",
    "        print(\"parent init\")\n",
    "class child(parent):\n",
    "    y=20\n",
    "    def __init__(self):\n",
    "        print(\"child init\")\n",
    "x=parent()\n",
    "y=child()\n"
   ]
  },
  {
   "cell_type": "code",
   "execution_count": 37,
   "metadata": {},
   "outputs": [
    {
     "name": "stdout",
     "output_type": "stream",
     "text": [
      "parent init\n",
      "child init\n",
      "10\n",
      "20\n",
      "parent 10\n",
      "child 20\n"
     ]
    }
   ],
   "source": [
    "class parent:\n",
    "    m=10\n",
    "    def __init__(self):\n",
    "        print(\"parent init\")\n",
    "    def display(self):\n",
    "        print(\"parent\",self.m)\n",
    "\n",
    "class child(parent):\n",
    "    m=20\n",
    "    def __init__(self):\n",
    "        print(\"child init\")\n",
    "    def display(self):\n",
    "        print(\"child\",self.m)\n",
    "\n",
    "x=parent()\n",
    "y=child()\n",
    "print(x.m)\n",
    "print(y.m)\n",
    "x.display()\n",
    "y.display()\n"
   ]
  },
  {
   "cell_type": "code",
   "execution_count": null,
   "metadata": {},
   "outputs": [],
   "source": []
  },
  {
   "cell_type": "code",
   "execution_count": 2,
   "metadata": {},
   "outputs": [
    {
     "data": {
      "text/plain": [
       "5"
      ]
     },
     "execution_count": 2,
     "metadata": {},
     "output_type": "execute_result"
    }
   ],
   "source": [
    "a=10\n",
    "b=2\n",
    "c=a//b\n",
    "c"
   ]
  },
  {
   "cell_type": "code",
   "execution_count": null,
   "metadata": {},
   "outputs": [],
   "source": []
  },
  {
   "cell_type": "code",
   "execution_count": null,
   "metadata": {},
   "outputs": [],
   "source": []
  }
 ],
 "metadata": {
  "kernelspec": {
   "display_name": "Python 3",
   "language": "python",
   "name": "python3"
  },
  "language_info": {
   "codemirror_mode": {
    "name": "ipython",
    "version": 3
   },
   "file_extension": ".py",
   "mimetype": "text/x-python",
   "name": "python",
   "nbconvert_exporter": "python",
   "pygments_lexer": "ipython3",
   "version": "3.11.5"
  },
  "orig_nbformat": 4
 },
 "nbformat": 4,
 "nbformat_minor": 2
}
