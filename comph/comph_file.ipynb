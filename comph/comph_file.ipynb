{
 "cells": [
  {
   "cell_type": "code",
   "execution_count": 2,
   "metadata": {},
   "outputs": [
    {
     "name": "stdout",
     "output_type": "stream",
     "text": [
      "hii\n"
     ]
    }
   ],
   "source": [
    "print(\"hii\")"
   ]
  },
  {
   "cell_type": "code",
   "execution_count": 49,
   "metadata": {},
   "outputs": [
    {
     "name": "stdout",
     "output_type": "stream",
     "text": [
      "['l', 'a', 'p', 't', 'o', 'p']\n",
      "laptop\n"
     ]
    }
   ],
   "source": [
    "st=\"LapToP\"\n",
    "l=[]\n",
    "for i in st:\n",
    "    if \"A\"<=i<=\"Z\":\n",
    "        l+=[chr(ord(i)+32)]\n",
    "    else:\n",
    "        l+=[i]\n",
    "print(l)\n",
    "print(\"\".join(l))    "
   ]
  },
  {
   "cell_type": "code",
   "execution_count": 15,
   "metadata": {},
   "outputs": [
    {
     "name": "stdout",
     "output_type": "stream",
     "text": [
      "laptop\n"
     ]
    }
   ],
   "source": [
    "st=\"LapToP\"\n",
    "l=\"\".join([chr(ord(i)+32) if \"A\"<=i<=\"Z\" else i for i in st])\n",
    "print(l)"
   ]
  },
  {
   "cell_type": "code",
   "execution_count": 48,
   "metadata": {},
   "outputs": [
    {
     "name": "stdout",
     "output_type": "stream",
     "text": [
      "['l', 'a', 'p', 't', 'o', 'p']\n",
      "laptop\n"
     ]
    }
   ],
   "source": [
    "st=\"LapToP\"\n",
    "l=[[i,chr(ord(i)+32)][\"A\"<=i<=\"Z\"] for i in st]\n",
    "print(l)\n",
    "print(\"\".join(l))"
   ]
  },
  {
   "cell_type": "code",
   "execution_count": 27,
   "metadata": {},
   "outputs": [
    {
     "name": "stdout",
     "output_type": "stream",
     "text": [
      "<generator object <genexpr> at 0x0000026E43204220>\n",
      "['l', 'a', 'p', 't', 'o', 'p']\n",
      "<generator object <genexpr> at 0x0000026E43204220>\n",
      "[]\n"
     ]
    }
   ],
   "source": [
    "st=\"LapToP\"\n",
    "l=([i,chr(ord(i)+32)][\"A\"<=i<=\"Z\"] for i in st)\n",
    "print(l)\n",
    "print(list(l))\n",
    "print(l)\n",
    "print(list(l))\n",
    "#it is genetator object we can access only one time \n",
    "# when we represented in the tuple formate"
   ]
  },
  {
   "cell_type": "code",
   "execution_count": 29,
   "metadata": {},
   "outputs": [
    {
     "name": "stdout",
     "output_type": "stream",
     "text": [
      "{'o', 'a', 'p', 'l', 't'}\n"
     ]
    }
   ],
   "source": [
    "st=\"LapToP\"\n",
    "l={[i,chr(ord(i)+32)][\"A\"<=i<=\"Z\"]for i in st}\n",
    "print(l)"
   ]
  },
  {
   "cell_type": "code",
   "execution_count": 58,
   "metadata": {},
   "outputs": [
    {
     "name": "stdout",
     "output_type": "stream",
     "text": [
      "{'L': 'L', 'a': 'a', 'p': 'p', 'T': 'T', 'o': 'o', 'P': 'P'}\n"
     ]
    }
   ],
   "source": [
    "st=\"LapToP\"\n",
    "l={i:i for i in st}\n",
    "print(l)"
   ]
  },
  {
   "cell_type": "code",
   "execution_count": 46,
   "metadata": {},
   "outputs": [
    {
     "name": "stdout",
     "output_type": "stream",
     "text": [
      "{'L': ',', 'a': 'A', 'p': 'P', 'T': '4', 'o': 'O', 'P': '0'}\n"
     ]
    }
   ],
   "source": [
    "st=\"LapToP\"\n",
    "l={i:ord(i) for i in st}\n",
    "print(l)"
   ]
  },
  {
   "cell_type": "code",
   "execution_count": 63,
   "metadata": {},
   "outputs": [
    {
     "name": "stdout",
     "output_type": "stream",
     "text": [
      "['@', '4', '6', '&', '$']\n"
     ]
    }
   ],
   "source": [
    "#wap to extract special charcters and ascii number\n",
    "st=\"AbcD@46&$\"\n",
    "l=[]\n",
    "for i in st:\n",
    "    if not(\"A\"<=i<=\"Z\" or  \"a\"<=i<=\"z\") :\n",
    "        l+=[i]\n",
    "print(l)"
   ]
  },
  {
   "cell_type": "code",
   "execution_count": 67,
   "metadata": {},
   "outputs": [
    {
     "name": "stdout",
     "output_type": "stream",
     "text": [
      "['@', '4', '6', '&', '$']\n"
     ]
    }
   ],
   "source": [
    "st=\"AbcD@46&$\"\n",
    "\n",
    "res=[i for i in st if not(\"A\"<=i<=\"Z\" or \"a\"<=i<=\"z\")]\n",
    "print(res)"
   ]
  },
  {
   "cell_type": "code",
   "execution_count": 90,
   "metadata": {},
   "outputs": [
    {
     "name": "stdout",
     "output_type": "stream",
     "text": [
      "['A', '@', 'y', 'u', 'o', 'h', '^', '&', '*']\n"
     ]
    }
   ],
   "source": [
    "#wap to extract sepcial charcters and aplhabets elementae the dublicate of values\n",
    "st=\"A@yuouh^&*A12354yuoh\"\n",
    "res=[]\n",
    "for i in st:\n",
    "    if not(\"0\"<=i<=\"9\"):\n",
    "        if i not in res:\n",
    "            res+=[i]\n",
    "print(res)"
   ]
  },
  {
   "cell_type": "code",
   "execution_count": 92,
   "metadata": {},
   "outputs": [
    {
     "name": "stdout",
     "output_type": "stream",
     "text": [
      "^o@&hAyu*\n"
     ]
    }
   ],
   "source": [
    "st=\"A@yuouh^&*A12354yuoh\"\n",
    "res={i for i in st if not(\"0\"<=i<=\"9\")}\n",
    "print(\"\".join(res))"
   ]
  }
 ],
 "metadata": {
  "kernelspec": {
   "display_name": "Python 3",
   "language": "python",
   "name": "python3"
  },
  "language_info": {
   "codemirror_mode": {
    "name": "ipython",
    "version": 3
   },
   "file_extension": ".py",
   "mimetype": "text/x-python",
   "name": "python",
   "nbconvert_exporter": "python",
   "pygments_lexer": "ipython3",
   "version": "3.11.4"
  },
  "orig_nbformat": 4
 },
 "nbformat": 4,
 "nbformat_minor": 2
}
