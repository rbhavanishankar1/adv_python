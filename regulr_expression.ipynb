{
 "cells": [
  {
   "cell_type": "code",
   "execution_count": 4,
   "metadata": {},
   "outputs": [
    {
     "name": "stdout",
     "output_type": "stream",
     "text": [
      "hii\n"
     ]
    }
   ],
   "source": [
    "print(\"hii\")"
   ]
  },
  {
   "cell_type": "code",
   "execution_count": 5,
   "metadata": {},
   "outputs": [
    {
     "name": "stdout",
     "output_type": "stream",
     "text": [
      "['+92 9988775566', '+918974512632']\n"
     ]
    }
   ],
   "source": [
    "import re\n",
    "data='''welcome to new world +92 9988775566 \n",
    " and +918974512632 and 6544887766 1800 985 456 1800668477 2586959886  '''\n",
    "res=re.findall('\\+[0-9]{2}\\s?[6789]{1}[0-9]{9}',data)\n",
    "print(res)\n"
   ]
  },
  {
   "cell_type": "code",
   "execution_count": 6,
   "metadata": {},
   "outputs": [
    {
     "name": "stdout",
     "output_type": "stream",
     "text": [
      "['9988775566', '9189745126', '6544887766', '1800 985 456', '1800668477']\n"
     ]
    }
   ],
   "source": [
    "import re\n",
    "data='''welcome to new world +92 9988775566 \n",
    " and +918974512632 and 6544887766 1800 985 456 1800668477 2586959886  '''\n",
    "res=re.findall('[16789]{1}\\d{3}\\s?\\d{3}\\s?\\d{3}',data)\n",
    "print(res)\n"
   ]
  },
  {
   "cell_type": "code",
   "execution_count": 7,
   "metadata": {},
   "outputs": [
    {
     "name": "stdout",
     "output_type": "stream",
     "text": [
      "['+92 9988775566 ', '+918974512632 ', ' 6544887766', ' 1800 985 456', ' 1800668477']\n"
     ]
    }
   ],
   "source": [
    "import re\n",
    "data='''welcome to new world +92 9988775566 \n",
    " and +918974512632 and 6544887766 1800 985 456 1800668477 2586959886  '''\n",
    "res=re.findall('\\+[0-9]{2}\\s?[6789]{1}[0-9]{9} | [16789]{1}\\d{3}\\s?\\d{3}\\s?\\d{3}',data)\n",
    "print(res)\n"
   ]
  },
  {
   "cell_type": "code",
   "execution_count": 22,
   "metadata": {},
   "outputs": [
    {
     "name": "stdout",
     "output_type": "stream",
     "text": [
      "['+1 (154) 154-1459']\n"
     ]
    }
   ],
   "source": [
    "import re\n",
    "data='''welcome to new world +92 9988775566 \n",
    " and +918974512632 and 6544887766 1800 985 456 1800668477 2586959886  \n",
    " +1 (154) 154-1459'''\n",
    "res=re.findall('\\+[1]\\s?\\(\\d{3}\\s?\\)\\s?\\d{3}\\s?\\-\\d{4}\\s?',data)\n",
    "print(res)\n"
   ]
  },
  {
   "cell_type": "code",
   "execution_count": 51,
   "metadata": {},
   "outputs": [
    {
     "name": "stdout",
     "output_type": "stream",
     "text": [
      "[' ap16 c1 6937 ', 'ts07ag0799 ', 'kn71cf7986 ']\n"
     ]
    }
   ],
   "source": [
    "import re \n",
    "data=''' ap16 c1 6937 ts07ag0799 kn71cf7986 dl y 5632 jgfj jh zjjcg vgscds jd \n",
    "\n",
    "'''\n",
    "res=re.findall('\\s?[a-zA-z]{2}\\d{2}\\s?[a-zA-z0-9]{2}\\s?\\d{4}\\s?',data)\n",
    "print(res)"
   ]
  },
  {
   "cell_type": "code",
   "execution_count": 59,
   "metadata": {},
   "outputs": [
    {
     "name": "stdout",
     "output_type": "stream",
     "text": [
      "['dl y 5632', 'ap 05 1879']\n"
     ]
    }
   ],
   "source": [
    "import re \n",
    "data=''' ap16 c1 6937 ts07ag0799 kn71cf7986 dl y 5632 jgfj jh zjjcg vgscds jd \n",
    "ap 05 1879\n",
    "'''\n",
    "res=re.findall('[a-zA-z]{2}\\s?\\w{1,2}\\s?\\d{4}',data)\n",
    "print(res)"
   ]
  },
  {
   "cell_type": "code",
   "execution_count": 65,
   "metadata": {},
   "outputs": [
    {
     "name": "stdout",
     "output_type": "stream",
     "text": [
      "['ap16 c1 6937 ', 'ts07ag0799 ', 'kn71cf7986 ']\n"
     ]
    }
   ],
   "source": [
    "import re \n",
    "data=''' ap16 c1 6937 ts07ag0799 kn71cf7986 dl y 5632 jgfj jh zjjcg vgscds jd \n",
    "ap 05 1879\n",
    "'''\n",
    "res=re.findall('[a-zA-z]{2}\\d{2}\\s?[a-zA-z0-9]{2}\\s?\\d{4}\\s? | [a-zA-z]{2}\\s?[a-zA-Z]{1,2}\\s?\\d{4} ',data)\n",
    "print(res)"
   ]
  },
  {
   "cell_type": "code",
   "execution_count": 70,
   "metadata": {},
   "outputs": [
    {
     "name": "stdout",
     "output_type": "stream",
     "text": [
      "[' ap16 c1 6937 ', 'ts07ag0799 ', 'kn71cf7986 ', 'dl y 5632 ', ' ap 05 1879\\n']\n"
     ]
    }
   ],
   "source": [
    "import re \n",
    "data=''' ap16 c1 6937 ts07ag0799 kn71cf7986 dl y 5632 jgfj jh zjjcg vgscds jd \n",
    "     ap 05 1879\n",
    "'''\n",
    "res=re.findall('\\s?[a-zA-z]{0,2}\\d{0,2}\\s?[a-zA-z0-9]{0,2}\\s?\\d{4}\\s?',data)\n",
    "print(res)"
   ]
  },
  {
   "cell_type": "code",
   "execution_count": 79,
   "metadata": {},
   "outputs": [
    {
     "name": "stdout",
     "output_type": "stream",
     "text": [
      "['rambaibhavanishankar@gmail.com gvg.9966@gmail.com', 'govardan@qspiders.in  dfgrthdn  raj@fmial.com g.venu.gopal@qspiders.edu']\n"
     ]
    }
   ],
   "source": [
    "import re\n",
    "data=''' rambaibhavanishankar@gmail.com gvg.9966@gmail.com \n",
    "govardan@qspiders.in  dfgrthdn  raj@fmial.com g.venu.gopal@qspiders.edu\n",
    "'''\n",
    "res=re.findall(\"\\w.+\\.?\\w+\\w.+@[a-zA-z]{4,9}\\.[a-zA-Z]{2,3}\",data)\n",
    "print(res)"
   ]
  },
  {
   "cell_type": "code",
   "execution_count": null,
   "metadata": {},
   "outputs": [],
   "source": [
    "data='''https://www.fb.com/login fhscjkdlbsjaf https://ww.yutube.edu asdjfufbdsjb\n",
    " https://www.apsrtc.co.in/home/ FJCHBADSLJLVULIWECDASHB https://www.pyrhon.prg.in https://www.django.co.us/doc/jasasfdasf/'''"
   ]
  },
  {
   "cell_type": "code",
   "execution_count": 100,
   "metadata": {},
   "outputs": [
    {
     "name": "stdout",
     "output_type": "stream",
     "text": [
      "['http://www.fb.com/login', 'https://www.apsrtc.co.in/home/', 'https://www.pyrhon.prg.in', 'http://www.9tube.com', 'https://www.django.co.us/doc/']\n"
     ]
    }
   ],
   "source": [
    "import re\n",
    "data='''http://www.fb.com/login fhscjkdlbsjaf https://ww.yutube.edu asdjfufbdsjb\n",
    " https://www.apsrtc.co.in/home/ FJCHBADSLJLVULIWECDASHB https://www.pyrhon.prg.in \n",
    " http://www.9tube.com\n",
    " https://www.django.co.us/doc/jasasfdasf/'''\n",
    "\n",
    "\n",
    "res=re.findall(\"http[s]?://www.\\w+\\.[a-zA_Z]{2,3}[a-zA-Z.]*/?\\w*/?\",data)\n",
    "print(res)"
   ]
  },
  {
   "cell_type": "code",
   "execution_count": 128,
   "metadata": {},
   "outputs": [
    {
     "name": "stdout",
     "output_type": "stream",
     "text": [
      "['192.', '168.', '0.', '1 ', '8589', '8589', '196.', '156.', '2.', '123 ', '192.', '198.', '256.', '255 ']\n"
     ]
    }
   ],
   "source": [
    "import re\n",
    "ip=''' 192.168.0.1 85898589 196.156.2.123 192.198.256.255 jkasfd.asf.asf'''\n",
    "res=re.findall(\"[0-9]{1,3}.\",ip)\n",
    "print(res)"
   ]
  },
  {
   "cell_type": "code",
   "execution_count": 133,
   "metadata": {},
   "outputs": [
    {
     "name": "stdout",
     "output_type": "stream",
     "text": [
      "<re.Match object; span=(39, 49), match='BLOPG8085E'>\n",
      "<re.Match object; span=(50, 60), match='DLOPG8505T'>\n"
     ]
    }
   ],
   "source": [
    "import re \n",
    "data=\"python is scripting programing lanuage BLOPG8085E DLOPG8505T jdfghukJADSN ABCDEF8745 gfhddg125t\"\n",
    "res=re.finditer('[A-Za-z]{5}[0-9]{4}[A-za-z]' ,data)\n",
    "for i in res:\n",
    "    print(i)"
   ]
  },
  {
   "cell_type": "code",
   "execution_count": 141,
   "metadata": {},
   "outputs": [
    {
     "name": "stdout",
     "output_type": "stream",
     "text": [
      "(39, 49) 39 39 49 49 BLOPG8085E\n",
      "(50, 60) 50 50 60 60 DLOPG8505T\n",
      "(75, 85) 75 75 85 85 BCDEF8745R\n"
     ]
    }
   ],
   "source": [
    "import re \n",
    "data=\"python is scripting programing lanuage BLOPG8085E DLOPG8505T jdfghukJADSN ABCDEF8745R gfhddg125t\"\n",
    "res=re.finditer('[A-Za-z]{5}[0-9]{4}[A-za-z]',data)\n",
    "for i in res:\n",
    "    print(i.span(),i.span()[0],i.start(),i.span()[1],i.end(),i.group())"
   ]
  },
  {
   "cell_type": "code",
   "execution_count": 157,
   "metadata": {},
   "outputs": [
    {
     "name": "stdout",
     "output_type": "stream",
     "text": [
      "None\n"
     ]
    }
   ],
   "source": [
    "import re \n",
    "data='friendship day 29-08-2023 sjhvks 25-01-2023 dhufs yigg 12-01-2021 hgd uhsc 14/02/2000'\n",
    "res=re.compile('[0-9]{2}\\-?\\/?[0-9]{2}\\-?\\/?[0-9]{4}')\n",
    "res1=res.match(data)\n",
    "print(res1)"
   ]
  },
  {
   "cell_type": "code",
   "execution_count": 175,
   "metadata": {},
   "outputs": [
    {
     "name": "stdout",
     "output_type": "stream",
     "text": [
      "<re.Match object; span=(5, 15), match='29-08-2023'>\n",
      "None\n"
     ]
    }
   ],
   "source": [
    "import re \n",
    "data=' day 29-08-2023 sjhvks 25-01-2023 dhufs yigg 12-01-2021 hgd uhsc 14/02/2000'\n",
    "res=('[0-9]{2}\\-?\\/?[0-9]{2}\\-?\\/?[0-9]{4}')\n",
    "print(re.search(res,data,re.IGNORECASE))\n",
    "print(re.match('day',data))\n"
   ]
  },
  {
   "cell_type": "code",
   "execution_count": 187,
   "metadata": {},
   "outputs": [
    {
     "name": "stdout",
     "output_type": "stream",
     "text": [
      "(0, 13)\n",
      "0\n",
      "13\n",
      "friendshipday\n"
     ]
    }
   ],
   "source": [
    "import re \n",
    "data='friendshipday day 29-08-2023 sjhvks 25-01-2023 dhufs yigg 12-01-2021 hgd uhsc 14/02/2000'\n",
    "res=re.match('friendshipday',data)\n",
    "print(res.span())\n",
    "print(res.start())\n",
    "print(res.end())\n",
    "print(res.group())\n",
    "\n"
   ]
  },
  {
   "cell_type": "code",
   "execution_count": 197,
   "metadata": {},
   "outputs": [
    {
     "name": "stdout",
     "output_type": "stream",
     "text": [
      "(0, 13)\n",
      "0\n",
      "13\n",
      "friendshipday\n"
     ]
    }
   ],
   "source": [
    "import re \n",
    "data='friendshipday'\n",
    "res=re.fullmatch('friendshipday',data)\n",
    "print(res.span())\n",
    "print(res.start())\n",
    "print(res.end())\n",
    "print(res.group())\n",
    "\n"
   ]
  },
  {
   "cell_type": "code",
   "execution_count": 199,
   "metadata": {},
   "outputs": [
    {
     "name": "stdout",
     "output_type": "stream",
     "text": [
      "None\n"
     ]
    }
   ],
   "source": [
    "import re \n",
    "data=\"friendship 123 day\"\n",
    "res=re.fullmatch(\"friend\",data)\n",
    "print(res)"
   ]
  },
  {
   "cell_type": "code",
   "execution_count": 208,
   "metadata": {},
   "outputs": [
    {
     "name": "stdout",
     "output_type": "stream",
     "text": [
      "None\n"
     ]
    }
   ],
   "source": [
    "import re\n",
    "data=\"friendship12\"\n",
    "res=re.fullmatch(\"[A-Za-z0-9]\",data)\n",
    "print(res)"
   ]
  },
  {
   "cell_type": "code",
   "execution_count": 209,
   "metadata": {},
   "outputs": [
    {
     "name": "stdout",
     "output_type": "stream",
     "text": [
      "<re.Match object; span=(0, 18), match='friendship 123 day'>\n"
     ]
    }
   ],
   "source": [
    "import re \n",
    "data=\"friendship 123 day\"\n",
    "res=re.fullmatch(\".*\",data)\n",
    "print(res)"
   ]
  },
  {
   "cell_type": "code",
   "execution_count": 215,
   "metadata": {},
   "outputs": [
    {
     "name": "stdout",
     "output_type": "stream",
     "text": [
      "<re.Match object; span=(18, 28), match='29-08-2023'>\n"
     ]
    }
   ],
   "source": [
    "import re \n",
    "data='friendshipday day 29-08-2023 sjhvks 25-01-2023 dhufs yigg 12-01-2021 hgd uhsc 14/02/2000'\n",
    "res=re.search('29-08-2023',data)\n",
    "print(res)"
   ]
  },
  {
   "cell_type": "code",
   "execution_count": 216,
   "metadata": {},
   "outputs": [
    {
     "name": "stdout",
     "output_type": "stream",
     "text": [
      "<re.Match object; span=(58, 68), match='12-01-2021'>\n"
     ]
    }
   ],
   "source": [
    "import re \n",
    "data='friendshipday day 29-08-2023 sjhvks 25-01-2023 dhufs yigg 12-01-2021 hgd uhsc 14/02/2000'\n",
    "res=re.search('12-01-2021',data)\n",
    "print(res)"
   ]
  },
  {
   "cell_type": "code",
   "execution_count": 219,
   "metadata": {},
   "outputs": [
    {
     "name": "stdout",
     "output_type": "stream",
     "text": [
      "<re.Match object; span=(18, 28), match='29-08-2023'>\n"
     ]
    }
   ],
   "source": [
    "import re \n",
    "data='friendshipday day 29-08-2023 sjhvks 25-01-2023 dhufs yigg 12-01-2021 hgd uhsc 14/02/2000'\n",
    "res=re.search('[0-9]{2}[/-][0-9]{2}[/-][0-9]{4}',data)\n",
    "print(res)"
   ]
  },
  {
   "cell_type": "code",
   "execution_count": 221,
   "metadata": {},
   "outputs": [
    {
     "name": "stdout",
     "output_type": "stream",
     "text": [
      "good hello world byee good\n"
     ]
    }
   ],
   "source": [
    "data=\"haii hello world byee haii\"\n",
    "res=re.sub(\"haii\",\"good\",data)\n",
    "print(res)"
   ]
  },
  {
   "cell_type": "code",
   "execution_count": 222,
   "metadata": {},
   "outputs": [
    {
     "name": "stdout",
     "output_type": "stream",
     "text": [
      "good hello world byee haii\n"
     ]
    }
   ],
   "source": [
    "data=\"haii hello world byee haii\"\n",
    "res=re.sub(\"haii\",\"good\",data,count=1)\n",
    "print(res)"
   ]
  },
  {
   "cell_type": "code",
   "execution_count": 228,
   "metadata": {},
   "outputs": [
    {
     "name": "stdout",
     "output_type": "stream",
     "text": [
      "friendshipday day DD-MM-YYYY sjhvks DD-MM-YYYY dhufs yigg DD-MM-YYYY hgd uhsc DD-MM-YYYY\n"
     ]
    }
   ],
   "source": [
    "import re\n",
    "data='friendshipday day 29-08-2023 sjhvks 25-01-2023 dhufs yigg 12-01-2021 hgd uhsc 14/02/2000'\n",
    "res=re.sub('[0-9]{2}[/-][0-9]{2}[/-][0-9]{4}','DD-MM-YYYY',data)\n",
    "print(res)"
   ]
  },
  {
   "cell_type": "code",
   "execution_count": null,
   "metadata": {},
   "outputs": [],
   "source": []
  },
  {
   "cell_type": "code",
   "execution_count": null,
   "metadata": {},
   "outputs": [],
   "source": []
  },
  {
   "cell_type": "code",
   "execution_count": null,
   "metadata": {},
   "outputs": [],
   "source": []
  },
  {
   "cell_type": "code",
   "execution_count": null,
   "metadata": {},
   "outputs": [],
   "source": []
  },
  {
   "cell_type": "code",
   "execution_count": null,
   "metadata": {},
   "outputs": [],
   "source": []
  },
  {
   "cell_type": "code",
   "execution_count": null,
   "metadata": {},
   "outputs": [],
   "source": []
  },
  {
   "cell_type": "code",
   "execution_count": null,
   "metadata": {},
   "outputs": [],
   "source": []
  }
 ],
 "metadata": {
  "kernelspec": {
   "display_name": "Python 3",
   "language": "python",
   "name": "python3"
  },
  "language_info": {
   "codemirror_mode": {
    "name": "ipython",
    "version": 3
   },
   "file_extension": ".py",
   "mimetype": "text/x-python",
   "name": "python",
   "nbconvert_exporter": "python",
   "pygments_lexer": "ipython3",
   "version": "3.11.4"
  },
  "orig_nbformat": 4
 },
 "nbformat": 4,
 "nbformat_minor": 2
}
