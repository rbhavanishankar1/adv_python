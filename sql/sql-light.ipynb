{
 "cells": [
  {
   "cell_type": "code",
   "execution_count": 23,
   "metadata": {},
   "outputs": [
    {
     "name": "stdout",
     "output_type": "stream",
     "text": [
      "hii\n"
     ]
    }
   ],
   "source": [
    "print(\"hii\")"
   ]
  },
  {
   "cell_type": "code",
   "execution_count": 24,
   "metadata": {},
   "outputs": [
    {
     "name": "stdout",
     "output_type": "stream",
     "text": [
      "<sqlite3.Connection object at 0x000002440873CA90>\n"
     ]
    }
   ],
   "source": [
    "#connection of sql to the python\n",
    "import sqlite3\n",
    "db=sqlite3.connect(\"employee.db\")\n",
    "print(db)"
   ]
  },
  {
   "cell_type": "code",
   "execution_count": 34,
   "metadata": {},
   "outputs": [
    {
     "name": "stdout",
     "output_type": "stream",
     "text": [
      "<sqlite3.Connection object at 0x0000024408832980>\n",
      "-1\n"
     ]
    }
   ],
   "source": [
    "import sqlite3\n",
    "db=sqlite3.connect(\"employee.db\")\n",
    "print(db)\n",
    "cur=db.cursor()\n",
    "cur.execute(\"create table employee(id int primary key,name varchar(50),email varchar(50),phone big int)\")\n",
    "print(cur.rowcount)\n",
    "db.commit()\n",
    "db.close()"
   ]
  },
  {
   "cell_type": "code",
   "execution_count": 35,
   "metadata": {},
   "outputs": [
    {
     "name": "stdout",
     "output_type": "stream",
     "text": [
      "<sqlite3.Connection object at 0x00000244088222F0>\n",
      "2\n"
     ]
    }
   ],
   "source": [
    "import sqlite3\n",
    "db=sqlite3.connect(\"employee.db\")\n",
    "print(db)\n",
    "cur=db.cursor()\n",
    "cur.execute('insert into employee(id,name,email,phone) values(1,\"bhavani\",\"bhavni@gmail.com\",868884926),(2,\"ram\",\"ram@gmail.com\",9977885599)')\n",
    "print(cur.rowcount)\n",
    "db.commit()\n",
    "db.close()"
   ]
  },
  {
   "cell_type": "code",
   "execution_count": 37,
   "metadata": {},
   "outputs": [
    {
     "name": "stdout",
     "output_type": "stream",
     "text": [
      "<sqlite3.Connection object at 0x00000244088222F0>\n"
     ]
    }
   ],
   "source": [
    "import sqlite3\n",
    "db=sqlite3.connect(\"employee.db\")\n",
    "print(db)\n",
    "cur=db.cursor()\n",
    "cur.execute(\"update employee set phone=868884926 where id=2\")\n",
    "db.commit()\n",
    "db.close()"
   ]
  },
  {
   "cell_type": "code",
   "execution_count": 38,
   "metadata": {},
   "outputs": [
    {
     "name": "stdout",
     "output_type": "stream",
     "text": [
      "<sqlite3.Connection object at 0x0000024408832980>\n"
     ]
    }
   ],
   "source": [
    "import sqlite3\n",
    "db=sqlite3.connect(\"employee.db\")\n",
    "print(db)\n",
    "cur=db.cursor()\n",
    "cur.execute(\"delete from employee where id=2\")\n",
    "db.commit()\n",
    "db.close()"
   ]
  },
  {
   "cell_type": "code",
   "execution_count": 41,
   "metadata": {},
   "outputs": [
    {
     "name": "stdout",
     "output_type": "stream",
     "text": [
      "<sqlite3.Connection object at 0x0000024408832980>\n",
      "(1, 'bhavani', 'bhavni@gmail.com', 868884926)\n"
     ]
    }
   ],
   "source": [
    "import sqlite3\n",
    "db=sqlite3.connect(\"employee.db\")\n",
    "print(db)\n",
    "cur=db.cursor()\n",
    "cur.execute(\"select * from employee\")\n",
    "res=cur.fetchall()\n",
    "for i in res:\n",
    "    print(i)\n",
    "db.commit()\n",
    "db.close()"
   ]
  },
  {
   "cell_type": "code",
   "execution_count": 42,
   "metadata": {},
   "outputs": [
    {
     "name": "stdout",
     "output_type": "stream",
     "text": [
      "<sqlite3.Connection object at 0x00000244088949A0>\n"
     ]
    }
   ],
   "source": [
    "import sqlite3\n",
    "db=sqlite3.connect(\"employee.db\")\n",
    "print(db)\n",
    "cur=db.cursor()\n",
    "cur.execute(\"delete from employee where id=2\")\n",
    "db.commit()\n",
    "db.close()"
   ]
  },
  {
   "cell_type": "code",
   "execution_count": 43,
   "metadata": {},
   "outputs": [
    {
     "name": "stdout",
     "output_type": "stream",
     "text": [
      "-1 affected\n"
     ]
    }
   ],
   "source": [
    "import sqlite3\n",
    "db=sqlite3.connect(\"coustomer.db\")\n",
    "cursor=db.cursor()\n",
    "\n",
    "def create_table(cur,qury):\n",
    "    cur.execute(qury)\n",
    "    print(cur.rowcount,\"affected\")\n",
    "    db.commit()\n",
    "query=''' create table customer(cid int primary key,\n",
    "name varchar(50) not null,\n",
    "email varchar(50) unique not null,\n",
    "phone big int unique not null,\n",
    "gender varchar(10) not null,\n",
    "age int not null\n",
    ") '''\n",
    "create_table(cursor,query)"
   ]
  },
  {
   "cell_type": "code",
   "execution_count": 47,
   "metadata": {},
   "outputs": [
    {
     "name": "stdout",
     "output_type": "stream",
     "text": [
      "1 affected\n"
     ]
    }
   ],
   "source": [
    "def insert_record(cus,id,name,email,phone,gender,age):\n",
    "    val=[id,name,email,phone,gender,age]\n",
    "    cus.execute('insert into customer(cid,name,email,phone,gender,age) values(?,?,?,?,?,?)',val)\n",
    "    print(cus.rowcount,\"affected\")\n",
    "    db.commit()\n",
    "insert_record(cursor,id=1,name=\"bhavni\",email=\"bhavani@gmail.com\",phone=8688895631,gender=\"Male\",age=26)\n",
    "insert_record(cursor,2,\"ramu\",\"ramu@gmail.com\",9988556633,\"male\",28)"
   ]
  },
  {
   "cell_type": "code",
   "execution_count": 52,
   "metadata": {},
   "outputs": [
    {
     "ename": "ProgrammingError",
     "evalue": "Cannot operate on a closed database.",
     "output_type": "error",
     "traceback": [
      "\u001b[1;31m---------------------------------------------------------------------------\u001b[0m",
      "\u001b[1;31mProgrammingError\u001b[0m                          Traceback (most recent call last)",
      "Cell \u001b[1;32mIn[52], line 9\u001b[0m\n\u001b[0;32m      7\u001b[0m         \u001b[39mprint\u001b[39m(i)\n\u001b[0;32m      8\u001b[0m     db\u001b[39m.\u001b[39mcommit()\n\u001b[1;32m----> 9\u001b[0m select_record(cursor,\u001b[39m\"\u001b[39;49m\u001b[39mcustomer\u001b[39;49m\u001b[39m\"\u001b[39;49m)\n",
      "Cell \u001b[1;32mIn[52], line 5\u001b[0m, in \u001b[0;36mselect_record\u001b[1;34m(cus, table)\u001b[0m\n\u001b[0;32m      3\u001b[0m val\u001b[39m=\u001b[39m[table]\n\u001b[0;32m      4\u001b[0m cus\u001b[39m.\u001b[39mexecute(\u001b[39mf\u001b[39m\u001b[39m\"\u001b[39m\u001b[39mselect * from \u001b[39m\u001b[39m{\u001b[39;00mtable\u001b[39m}\u001b[39;00m\u001b[39m\"\u001b[39m)\n\u001b[1;32m----> 5\u001b[0m res\u001b[39m=\u001b[39mcur\u001b[39m.\u001b[39;49mfetchall()\n\u001b[0;32m      6\u001b[0m \u001b[39mfor\u001b[39;00m i \u001b[39min\u001b[39;00m res:\n\u001b[0;32m      7\u001b[0m     \u001b[39mprint\u001b[39m(i)\n",
      "\u001b[1;31mProgrammingError\u001b[0m: Cannot operate on a closed database."
     ]
    }
   ],
   "source": [
    "#selcting the record\n",
    "def select_record(cus,table):\n",
    "    val=[table]\n",
    "    cus.execute(f\"select * from {table}\")\n",
    "    res=cur.fetchall()\n",
    "    for i in res:\n",
    "        print(i)\n",
    "    db.commit()\n",
    "select_record(cursor,\"customer\")"
   ]
  },
  {
   "cell_type": "code",
   "execution_count": null,
   "metadata": {},
   "outputs": [],
   "source": []
  },
  {
   "cell_type": "code",
   "execution_count": null,
   "metadata": {},
   "outputs": [],
   "source": []
  }
 ],
 "metadata": {
  "kernelspec": {
   "display_name": "Python 3",
   "language": "python",
   "name": "python3"
  },
  "language_info": {
   "codemirror_mode": {
    "name": "ipython",
    "version": 3
   },
   "file_extension": ".py",
   "mimetype": "text/x-python",
   "name": "python",
   "nbconvert_exporter": "python",
   "pygments_lexer": "ipython3",
   "version": "3.11.4"
  },
  "orig_nbformat": 4
 },
 "nbformat": 4,
 "nbformat_minor": 2
}
